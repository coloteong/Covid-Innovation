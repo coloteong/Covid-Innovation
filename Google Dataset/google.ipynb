{
 "cells": [
  {
   "cell_type": "code",
   "execution_count": 1,
   "metadata": {},
   "outputs": [],
   "source": [
    "import os\n",
    "import numpy as np\n",
    "import matplotlib.pyplot as plt\n",
    "import seaborn as sns\n",
    "import pandas as pd\n",
    "import altair as alt"
   ]
  },
  {
   "cell_type": "code",
   "execution_count": 2,
   "metadata": {},
   "outputs": [
    {
     "name": "stderr",
     "output_type": "stream",
     "text": [
      "E:\\Applications\\Anaconda3\\envs\\default\\lib\\site-packages\\IPython\\core\\interactiveshell.py:3051: DtypeWarning: Columns (3) have mixed types. Specify dtype option on import or set low_memory=False.\n",
      "  interactivity=interactivity, compiler=compiler, result=result)\n"
     ]
    },
    {
     "data": {
      "text/html": [
       "<div>\n",
       "<style scoped>\n",
       "    .dataframe tbody tr th:only-of-type {\n",
       "        vertical-align: middle;\n",
       "    }\n",
       "\n",
       "    .dataframe tbody tr th {\n",
       "        vertical-align: top;\n",
       "    }\n",
       "\n",
       "    .dataframe thead th {\n",
       "        text-align: right;\n",
       "    }\n",
       "</style>\n",
       "<table border=\"1\" class=\"dataframe\">\n",
       "  <thead>\n",
       "    <tr style=\"text-align: right;\">\n",
       "      <th></th>\n",
       "      <th>country_region_code</th>\n",
       "      <th>country_region</th>\n",
       "      <th>sub_region_1</th>\n",
       "      <th>sub_region_2</th>\n",
       "      <th>date</th>\n",
       "      <th>retail_and_recreation_percent_change_from_baseline</th>\n",
       "      <th>grocery_and_pharmacy_percent_change_from_baseline</th>\n",
       "      <th>parks_percent_change_from_baseline</th>\n",
       "      <th>transit_stations_percent_change_from_baseline</th>\n",
       "      <th>workplaces_percent_change_from_baseline</th>\n",
       "      <th>residential_percent_change_from_baseline</th>\n",
       "    </tr>\n",
       "  </thead>\n",
       "  <tbody>\n",
       "    <tr>\n",
       "      <th>0</th>\n",
       "      <td>AE</td>\n",
       "      <td>United Arab Emirates</td>\n",
       "      <td>NaN</td>\n",
       "      <td>NaN</td>\n",
       "      <td>2020-02-15</td>\n",
       "      <td>0.0</td>\n",
       "      <td>4.0</td>\n",
       "      <td>5.0</td>\n",
       "      <td>0.0</td>\n",
       "      <td>2.0</td>\n",
       "      <td>1.0</td>\n",
       "    </tr>\n",
       "    <tr>\n",
       "      <th>1</th>\n",
       "      <td>AE</td>\n",
       "      <td>United Arab Emirates</td>\n",
       "      <td>NaN</td>\n",
       "      <td>NaN</td>\n",
       "      <td>2020-02-16</td>\n",
       "      <td>1.0</td>\n",
       "      <td>4.0</td>\n",
       "      <td>4.0</td>\n",
       "      <td>1.0</td>\n",
       "      <td>2.0</td>\n",
       "      <td>1.0</td>\n",
       "    </tr>\n",
       "    <tr>\n",
       "      <th>2</th>\n",
       "      <td>AE</td>\n",
       "      <td>United Arab Emirates</td>\n",
       "      <td>NaN</td>\n",
       "      <td>NaN</td>\n",
       "      <td>2020-02-17</td>\n",
       "      <td>-1.0</td>\n",
       "      <td>1.0</td>\n",
       "      <td>5.0</td>\n",
       "      <td>1.0</td>\n",
       "      <td>2.0</td>\n",
       "      <td>1.0</td>\n",
       "    </tr>\n",
       "    <tr>\n",
       "      <th>3</th>\n",
       "      <td>AE</td>\n",
       "      <td>United Arab Emirates</td>\n",
       "      <td>NaN</td>\n",
       "      <td>NaN</td>\n",
       "      <td>2020-02-18</td>\n",
       "      <td>-2.0</td>\n",
       "      <td>1.0</td>\n",
       "      <td>5.0</td>\n",
       "      <td>0.0</td>\n",
       "      <td>2.0</td>\n",
       "      <td>1.0</td>\n",
       "    </tr>\n",
       "    <tr>\n",
       "      <th>4</th>\n",
       "      <td>AE</td>\n",
       "      <td>United Arab Emirates</td>\n",
       "      <td>NaN</td>\n",
       "      <td>NaN</td>\n",
       "      <td>2020-02-19</td>\n",
       "      <td>-2.0</td>\n",
       "      <td>0.0</td>\n",
       "      <td>4.0</td>\n",
       "      <td>-1.0</td>\n",
       "      <td>2.0</td>\n",
       "      <td>1.0</td>\n",
       "    </tr>\n",
       "  </tbody>\n",
       "</table>\n",
       "</div>"
      ],
      "text/plain": [
       "  country_region_code        country_region sub_region_1 sub_region_2  \\\n",
       "0                  AE  United Arab Emirates          NaN          NaN   \n",
       "1                  AE  United Arab Emirates          NaN          NaN   \n",
       "2                  AE  United Arab Emirates          NaN          NaN   \n",
       "3                  AE  United Arab Emirates          NaN          NaN   \n",
       "4                  AE  United Arab Emirates          NaN          NaN   \n",
       "\n",
       "         date  retail_and_recreation_percent_change_from_baseline  \\\n",
       "0  2020-02-15                                                0.0    \n",
       "1  2020-02-16                                                1.0    \n",
       "2  2020-02-17                                               -1.0    \n",
       "3  2020-02-18                                               -2.0    \n",
       "4  2020-02-19                                               -2.0    \n",
       "\n",
       "   grocery_and_pharmacy_percent_change_from_baseline  \\\n",
       "0                                                4.0   \n",
       "1                                                4.0   \n",
       "2                                                1.0   \n",
       "3                                                1.0   \n",
       "4                                                0.0   \n",
       "\n",
       "   parks_percent_change_from_baseline  \\\n",
       "0                                 5.0   \n",
       "1                                 4.0   \n",
       "2                                 5.0   \n",
       "3                                 5.0   \n",
       "4                                 4.0   \n",
       "\n",
       "   transit_stations_percent_change_from_baseline  \\\n",
       "0                                            0.0   \n",
       "1                                            1.0   \n",
       "2                                            1.0   \n",
       "3                                            0.0   \n",
       "4                                           -1.0   \n",
       "\n",
       "   workplaces_percent_change_from_baseline  \\\n",
       "0                                      2.0   \n",
       "1                                      2.0   \n",
       "2                                      2.0   \n",
       "3                                      2.0   \n",
       "4                                      2.0   \n",
       "\n",
       "   residential_percent_change_from_baseline  \n",
       "0                                       1.0  \n",
       "1                                       1.0  \n",
       "2                                       1.0  \n",
       "3                                       1.0  \n",
       "4                                       1.0  "
      ]
     },
     "execution_count": 2,
     "metadata": {},
     "output_type": "execute_result"
    }
   ],
   "source": [
    "data = pd.read_csv('Global_Mobility_Report.csv')\n",
    "data.head()"
   ]
  },
  {
   "cell_type": "code",
   "execution_count": 3,
   "metadata": {},
   "outputs": [
    {
     "data": {
      "text/plain": [
       "(363, 11)"
      ]
     },
     "execution_count": 3,
     "metadata": {},
     "output_type": "execute_result"
    }
   ],
   "source": [
    "snippet = data.iloc[::1000, :]\n",
    "snippet.shape"
   ]
  },
  {
   "cell_type": "code",
   "execution_count": 4,
   "metadata": {},
   "outputs": [
    {
     "data": {
      "text/plain": [
       "DataTransformerRegistry.enable('json')"
      ]
     },
     "execution_count": 4,
     "metadata": {},
     "output_type": "execute_result"
    }
   ],
   "source": [
    "# enables saving plot as a json before reading from that json to draw the plot\n",
    "# prevents ur com from crashing for large datasets\n",
    "alt.data_transformers.enable('json')"
   ]
  },
  {
   "cell_type": "markdown",
   "metadata": {},
   "source": [
    "Helper functions"
   ]
  },
  {
   "cell_type": "code",
   "execution_count": 5,
   "metadata": {},
   "outputs": [],
   "source": [
    "def generate_charts(df, columns, full_dataset=False):\n",
    "    \"\"\"\n",
    "    generates and stores charts for each specified column in a list\n",
    "    \"\"\"\n",
    "    # dropdown for selecting country\n",
    "    input_dropdown = alt.binding_select(options=df.country_region.unique(),\n",
    "                                        name='Select Country: ')\n",
    "    selection = alt.selection_single(fields=['country_region'], bind=input_dropdown)\n",
    "    # color logic\n",
    "    color = alt.condition(selection,\n",
    "                        alt.Color('country_region:N', legend=None),\n",
    "                        alt.value('lightgray'))\n",
    "    \n",
    "    template = alt.Chart(df).mark_bar().encode(\n",
    "            x=alt.X('date:T', axis=alt.Axis(title='Date')), # T for altair to plot days inline\n",
    "            color=color,\n",
    "    ).add_selection(selection)\n",
    "    \n",
    "    charts = []\n",
    "    for col in columns:\n",
    "        title = col.split('_')[0].capitalize()\n",
    "        charts.append(template.encode(\n",
    "            y=alt.Y(col+':Q', axis=alt.Axis(format='%', title=(title)))\n",
    "        ).properties(title='Percent change of {} from baseline'.format(title),\n",
    "                     width=300,\n",
    "                     height=150)\n",
    "        )\n",
    "    half = int(len(charts)/2)\n",
    "    return render_charts(charts[:half]) | render_charts(charts[half:])\n",
    "def render_charts(charts):\n",
    "    \"\"\"\n",
    "    recursively render charts\n",
    "    \"\"\"\n",
    "    if len(charts) == 1:\n",
    "        return charts[0]\n",
    "    return alt.vconcat(charts[0], render_charts(charts[1:]))"
   ]
  },
  {
   "cell_type": "code",
   "execution_count": 6,
   "metadata": {},
   "outputs": [
    {
     "data": {
      "text/html": [
       "\n",
       "<div id=\"altair-viz-3d4a5e4208cb4f009d9ff7449361c206\"></div>\n",
       "<script type=\"text/javascript\">\n",
       "  (function(spec, embedOpt){\n",
       "    let outputDiv = document.currentScript.previousElementSibling;\n",
       "    if (outputDiv.id !== \"altair-viz-3d4a5e4208cb4f009d9ff7449361c206\") {\n",
       "      outputDiv = document.getElementById(\"altair-viz-3d4a5e4208cb4f009d9ff7449361c206\");\n",
       "    }\n",
       "    const paths = {\n",
       "      \"vega\": \"https://cdn.jsdelivr.net/npm//vega@5?noext\",\n",
       "      \"vega-lib\": \"https://cdn.jsdelivr.net/npm//vega-lib?noext\",\n",
       "      \"vega-lite\": \"https://cdn.jsdelivr.net/npm//vega-lite@4.8.1?noext\",\n",
       "      \"vega-embed\": \"https://cdn.jsdelivr.net/npm//vega-embed@6?noext\",\n",
       "    };\n",
       "\n",
       "    function loadScript(lib) {\n",
       "      return new Promise(function(resolve, reject) {\n",
       "        var s = document.createElement('script');\n",
       "        s.src = paths[lib];\n",
       "        s.async = true;\n",
       "        s.onload = () => resolve(paths[lib]);\n",
       "        s.onerror = () => reject(`Error loading script: ${paths[lib]}`);\n",
       "        document.getElementsByTagName(\"head\")[0].appendChild(s);\n",
       "      });\n",
       "    }\n",
       "\n",
       "    function showError(err) {\n",
       "      outputDiv.innerHTML = `<div class=\"error\" style=\"color:red;\">${err}</div>`;\n",
       "      throw err;\n",
       "    }\n",
       "\n",
       "    function displayChart(vegaEmbed) {\n",
       "      vegaEmbed(outputDiv, spec, embedOpt)\n",
       "        .catch(err => showError(`Javascript Error: ${err.message}<br>This usually means there's a typo in your chart specification. See the javascript console for the full traceback.`));\n",
       "    }\n",
       "\n",
       "    if(typeof define === \"function\" && define.amd) {\n",
       "      requirejs.config({paths});\n",
       "      require([\"vega-embed\"], displayChart, err => showError(`Error loading script: ${err.message}`));\n",
       "    } else if (typeof vegaEmbed === \"function\") {\n",
       "      displayChart(vegaEmbed);\n",
       "    } else {\n",
       "      loadScript(\"vega\")\n",
       "        .then(() => loadScript(\"vega-lite\"))\n",
       "        .then(() => loadScript(\"vega-embed\"))\n",
       "        .catch(showError)\n",
       "        .then(() => displayChart(vegaEmbed));\n",
       "    }\n",
       "  })({\"config\": {\"view\": {\"continuousWidth\": 400, \"continuousHeight\": 300}}, \"hconcat\": [{\"vconcat\": [{\"mark\": \"bar\", \"encoding\": {\"color\": {\"condition\": {\"type\": \"nominal\", \"field\": \"country_region\", \"legend\": null, \"selection\": \"selector001\"}, \"value\": \"lightgray\"}, \"x\": {\"type\": \"temporal\", \"axis\": {\"title\": \"Date\"}, \"field\": \"date\"}, \"y\": {\"type\": \"quantitative\", \"axis\": {\"format\": \"%\", \"title\": \"Retail\"}, \"field\": \"retail_and_recreation_percent_change_from_baseline\"}}, \"height\": 150, \"selection\": {\"selector001\": {\"type\": \"single\", \"fields\": [\"country_region\"], \"bind\": {\"input\": \"select\", \"options\": [\"United Arab Emirates\", \"Angola\", \"Argentina\", \"Austria\", \"Australia\", \"Barbados\", \"Bulgaria\", \"Brazil\", \"Canada\", \"Switzerland\", \"Chile\", \"Colombia\", \"Cape Verde\", \"Czechia\", \"Germany\", \"Denmark\", \"Estonia\", \"Egypt\", \"Spain\", \"Finland\", \"France\", \"United Kingdom\", \"Greece\", \"Croatia\", \"Hungary\", \"Indonesia\", \"Ireland\", \"Israel\", \"India\", \"Italy\", \"Japan\", \"Kenya\", \"Kuwait\", \"Liechtenstein\", \"Lithuania\", \"Latvia\", \"Mongolia\", \"Mauritius\", \"Mexico\", \"Nigeria\", \"Netherlands\", \"Norway\", \"New Zealand\", \"Peru\", \"Poland\", \"Portugal\", \"Romania\", \"Rwanda\", \"Saudi Arabia\", \"Sweden\", \"Slovenia\", \"El Salvador\", \"United States\", \"Uruguay\", \"South Africa\"], \"name\": \"Select Country: \"}}}, \"title\": \"Percent change of Retail from baseline\", \"width\": 300}, {\"vconcat\": [{\"mark\": \"bar\", \"encoding\": {\"color\": {\"condition\": {\"type\": \"nominal\", \"field\": \"country_region\", \"legend\": null, \"selection\": \"selector001\"}, \"value\": \"lightgray\"}, \"x\": {\"type\": \"temporal\", \"axis\": {\"title\": \"Date\"}, \"field\": \"date\"}, \"y\": {\"type\": \"quantitative\", \"axis\": {\"format\": \"%\", \"title\": \"Grocery\"}, \"field\": \"grocery_and_pharmacy_percent_change_from_baseline\"}}, \"height\": 150, \"selection\": {\"selector001\": {\"type\": \"single\", \"fields\": [\"country_region\"], \"bind\": {\"input\": \"select\", \"options\": [\"United Arab Emirates\", \"Angola\", \"Argentina\", \"Austria\", \"Australia\", \"Barbados\", \"Bulgaria\", \"Brazil\", \"Canada\", \"Switzerland\", \"Chile\", \"Colombia\", \"Cape Verde\", \"Czechia\", \"Germany\", \"Denmark\", \"Estonia\", \"Egypt\", \"Spain\", \"Finland\", \"France\", \"United Kingdom\", \"Greece\", \"Croatia\", \"Hungary\", \"Indonesia\", \"Ireland\", \"Israel\", \"India\", \"Italy\", \"Japan\", \"Kenya\", \"Kuwait\", \"Liechtenstein\", \"Lithuania\", \"Latvia\", \"Mongolia\", \"Mauritius\", \"Mexico\", \"Nigeria\", \"Netherlands\", \"Norway\", \"New Zealand\", \"Peru\", \"Poland\", \"Portugal\", \"Romania\", \"Rwanda\", \"Saudi Arabia\", \"Sweden\", \"Slovenia\", \"El Salvador\", \"United States\", \"Uruguay\", \"South Africa\"], \"name\": \"Select Country: \"}}}, \"title\": \"Percent change of Grocery from baseline\", \"width\": 300}, {\"mark\": \"bar\", \"encoding\": {\"color\": {\"condition\": {\"type\": \"nominal\", \"field\": \"country_region\", \"legend\": null, \"selection\": \"selector001\"}, \"value\": \"lightgray\"}, \"x\": {\"type\": \"temporal\", \"axis\": {\"title\": \"Date\"}, \"field\": \"date\"}, \"y\": {\"type\": \"quantitative\", \"axis\": {\"format\": \"%\", \"title\": \"Parks\"}, \"field\": \"parks_percent_change_from_baseline\"}}, \"height\": 150, \"selection\": {\"selector001\": {\"type\": \"single\", \"fields\": [\"country_region\"], \"bind\": {\"input\": \"select\", \"options\": [\"United Arab Emirates\", \"Angola\", \"Argentina\", \"Austria\", \"Australia\", \"Barbados\", \"Bulgaria\", \"Brazil\", \"Canada\", \"Switzerland\", \"Chile\", \"Colombia\", \"Cape Verde\", \"Czechia\", \"Germany\", \"Denmark\", \"Estonia\", \"Egypt\", \"Spain\", \"Finland\", \"France\", \"United Kingdom\", \"Greece\", \"Croatia\", \"Hungary\", \"Indonesia\", \"Ireland\", \"Israel\", \"India\", \"Italy\", \"Japan\", \"Kenya\", \"Kuwait\", \"Liechtenstein\", \"Lithuania\", \"Latvia\", \"Mongolia\", \"Mauritius\", \"Mexico\", \"Nigeria\", \"Netherlands\", \"Norway\", \"New Zealand\", \"Peru\", \"Poland\", \"Portugal\", \"Romania\", \"Rwanda\", \"Saudi Arabia\", \"Sweden\", \"Slovenia\", \"El Salvador\", \"United States\", \"Uruguay\", \"South Africa\"], \"name\": \"Select Country: \"}}}, \"title\": \"Percent change of Parks from baseline\", \"width\": 300}]}]}, {\"vconcat\": [{\"mark\": \"bar\", \"encoding\": {\"color\": {\"condition\": {\"type\": \"nominal\", \"field\": \"country_region\", \"legend\": null, \"selection\": \"selector001\"}, \"value\": \"lightgray\"}, \"x\": {\"type\": \"temporal\", \"axis\": {\"title\": \"Date\"}, \"field\": \"date\"}, \"y\": {\"type\": \"quantitative\", \"axis\": {\"format\": \"%\", \"title\": \"Transit\"}, \"field\": \"transit_stations_percent_change_from_baseline\"}}, \"height\": 150, \"selection\": {\"selector001\": {\"type\": \"single\", \"fields\": [\"country_region\"], \"bind\": {\"input\": \"select\", \"options\": [\"United Arab Emirates\", \"Angola\", \"Argentina\", \"Austria\", \"Australia\", \"Barbados\", \"Bulgaria\", \"Brazil\", \"Canada\", \"Switzerland\", \"Chile\", \"Colombia\", \"Cape Verde\", \"Czechia\", \"Germany\", \"Denmark\", \"Estonia\", \"Egypt\", \"Spain\", \"Finland\", \"France\", \"United Kingdom\", \"Greece\", \"Croatia\", \"Hungary\", \"Indonesia\", \"Ireland\", \"Israel\", \"India\", \"Italy\", \"Japan\", \"Kenya\", \"Kuwait\", \"Liechtenstein\", \"Lithuania\", \"Latvia\", \"Mongolia\", \"Mauritius\", \"Mexico\", \"Nigeria\", \"Netherlands\", \"Norway\", \"New Zealand\", \"Peru\", \"Poland\", \"Portugal\", \"Romania\", \"Rwanda\", \"Saudi Arabia\", \"Sweden\", \"Slovenia\", \"El Salvador\", \"United States\", \"Uruguay\", \"South Africa\"], \"name\": \"Select Country: \"}}}, \"title\": \"Percent change of Transit from baseline\", \"width\": 300}, {\"vconcat\": [{\"mark\": \"bar\", \"encoding\": {\"color\": {\"condition\": {\"type\": \"nominal\", \"field\": \"country_region\", \"legend\": null, \"selection\": \"selector001\"}, \"value\": \"lightgray\"}, \"x\": {\"type\": \"temporal\", \"axis\": {\"title\": \"Date\"}, \"field\": \"date\"}, \"y\": {\"type\": \"quantitative\", \"axis\": {\"format\": \"%\", \"title\": \"Workplaces\"}, \"field\": \"workplaces_percent_change_from_baseline\"}}, \"height\": 150, \"selection\": {\"selector001\": {\"type\": \"single\", \"fields\": [\"country_region\"], \"bind\": {\"input\": \"select\", \"options\": [\"United Arab Emirates\", \"Angola\", \"Argentina\", \"Austria\", \"Australia\", \"Barbados\", \"Bulgaria\", \"Brazil\", \"Canada\", \"Switzerland\", \"Chile\", \"Colombia\", \"Cape Verde\", \"Czechia\", \"Germany\", \"Denmark\", \"Estonia\", \"Egypt\", \"Spain\", \"Finland\", \"France\", \"United Kingdom\", \"Greece\", \"Croatia\", \"Hungary\", \"Indonesia\", \"Ireland\", \"Israel\", \"India\", \"Italy\", \"Japan\", \"Kenya\", \"Kuwait\", \"Liechtenstein\", \"Lithuania\", \"Latvia\", \"Mongolia\", \"Mauritius\", \"Mexico\", \"Nigeria\", \"Netherlands\", \"Norway\", \"New Zealand\", \"Peru\", \"Poland\", \"Portugal\", \"Romania\", \"Rwanda\", \"Saudi Arabia\", \"Sweden\", \"Slovenia\", \"El Salvador\", \"United States\", \"Uruguay\", \"South Africa\"], \"name\": \"Select Country: \"}}}, \"title\": \"Percent change of Workplaces from baseline\", \"width\": 300}, {\"mark\": \"bar\", \"encoding\": {\"color\": {\"condition\": {\"type\": \"nominal\", \"field\": \"country_region\", \"legend\": null, \"selection\": \"selector001\"}, \"value\": \"lightgray\"}, \"x\": {\"type\": \"temporal\", \"axis\": {\"title\": \"Date\"}, \"field\": \"date\"}, \"y\": {\"type\": \"quantitative\", \"axis\": {\"format\": \"%\", \"title\": \"Residential\"}, \"field\": \"residential_percent_change_from_baseline\"}}, \"height\": 150, \"selection\": {\"selector001\": {\"type\": \"single\", \"fields\": [\"country_region\"], \"bind\": {\"input\": \"select\", \"options\": [\"United Arab Emirates\", \"Angola\", \"Argentina\", \"Austria\", \"Australia\", \"Barbados\", \"Bulgaria\", \"Brazil\", \"Canada\", \"Switzerland\", \"Chile\", \"Colombia\", \"Cape Verde\", \"Czechia\", \"Germany\", \"Denmark\", \"Estonia\", \"Egypt\", \"Spain\", \"Finland\", \"France\", \"United Kingdom\", \"Greece\", \"Croatia\", \"Hungary\", \"Indonesia\", \"Ireland\", \"Israel\", \"India\", \"Italy\", \"Japan\", \"Kenya\", \"Kuwait\", \"Liechtenstein\", \"Lithuania\", \"Latvia\", \"Mongolia\", \"Mauritius\", \"Mexico\", \"Nigeria\", \"Netherlands\", \"Norway\", \"New Zealand\", \"Peru\", \"Poland\", \"Portugal\", \"Romania\", \"Rwanda\", \"Saudi Arabia\", \"Sweden\", \"Slovenia\", \"El Salvador\", \"United States\", \"Uruguay\", \"South Africa\"], \"name\": \"Select Country: \"}}}, \"title\": \"Percent change of Residential from baseline\", \"width\": 300}]}]}], \"data\": {\"url\": \"altair-data-4d96f4c5f0cb4b8805754f63eaa13095.json\", \"format\": {\"type\": \"json\"}}, \"$schema\": \"https://vega.github.io/schema/vega-lite/v4.8.1.json\"}, {\"mode\": \"vega-lite\"});\n",
       "</script>"
      ],
      "text/plain": [
       "alt.HConcatChart(...)"
      ]
     },
     "execution_count": 6,
     "metadata": {},
     "output_type": "execute_result"
    }
   ],
   "source": [
    "generate_charts(snippet, snippet.columns[5:])"
   ]
  },
  {
   "cell_type": "markdown",
   "metadata": {},
   "source": [
    "full dataset, may crash ur browser"
   ]
  },
  {
   "cell_type": "code",
   "execution_count": 7,
   "metadata": {},
   "outputs": [
    {
     "data": {
      "text/html": [
       "\n",
       "<div id=\"altair-viz-44165504081746e28a9623f022b00731\"></div>\n",
       "<script type=\"text/javascript\">\n",
       "  (function(spec, embedOpt){\n",
       "    let outputDiv = document.currentScript.previousElementSibling;\n",
       "    if (outputDiv.id !== \"altair-viz-44165504081746e28a9623f022b00731\") {\n",
       "      outputDiv = document.getElementById(\"altair-viz-44165504081746e28a9623f022b00731\");\n",
       "    }\n",
       "    const paths = {\n",
       "      \"vega\": \"https://cdn.jsdelivr.net/npm//vega@5?noext\",\n",
       "      \"vega-lib\": \"https://cdn.jsdelivr.net/npm//vega-lib?noext\",\n",
       "      \"vega-lite\": \"https://cdn.jsdelivr.net/npm//vega-lite@4.8.1?noext\",\n",
       "      \"vega-embed\": \"https://cdn.jsdelivr.net/npm//vega-embed@6?noext\",\n",
       "    };\n",
       "\n",
       "    function loadScript(lib) {\n",
       "      return new Promise(function(resolve, reject) {\n",
       "        var s = document.createElement('script');\n",
       "        s.src = paths[lib];\n",
       "        s.async = true;\n",
       "        s.onload = () => resolve(paths[lib]);\n",
       "        s.onerror = () => reject(`Error loading script: ${paths[lib]}`);\n",
       "        document.getElementsByTagName(\"head\")[0].appendChild(s);\n",
       "      });\n",
       "    }\n",
       "\n",
       "    function showError(err) {\n",
       "      outputDiv.innerHTML = `<div class=\"error\" style=\"color:red;\">${err}</div>`;\n",
       "      throw err;\n",
       "    }\n",
       "\n",
       "    function displayChart(vegaEmbed) {\n",
       "      vegaEmbed(outputDiv, spec, embedOpt)\n",
       "        .catch(err => showError(`Javascript Error: ${err.message}<br>This usually means there's a typo in your chart specification. See the javascript console for the full traceback.`));\n",
       "    }\n",
       "\n",
       "    if(typeof define === \"function\" && define.amd) {\n",
       "      requirejs.config({paths});\n",
       "      require([\"vega-embed\"], displayChart, err => showError(`Error loading script: ${err.message}`));\n",
       "    } else if (typeof vegaEmbed === \"function\") {\n",
       "      displayChart(vegaEmbed);\n",
       "    } else {\n",
       "      loadScript(\"vega\")\n",
       "        .then(() => loadScript(\"vega-lite\"))\n",
       "        .then(() => loadScript(\"vega-embed\"))\n",
       "        .catch(showError)\n",
       "        .then(() => displayChart(vegaEmbed));\n",
       "    }\n",
       "  })({\"config\": {\"view\": {\"continuousWidth\": 400, \"continuousHeight\": 300}}, \"hconcat\": [{\"vconcat\": [{\"mark\": \"bar\", \"encoding\": {\"color\": {\"condition\": {\"type\": \"nominal\", \"field\": \"country_region\", \"legend\": null, \"selection\": \"selector002\"}, \"value\": \"lightgray\"}, \"x\": {\"type\": \"temporal\", \"axis\": {\"title\": \"Date\"}, \"field\": \"date\"}, \"y\": {\"type\": \"quantitative\", \"axis\": {\"format\": \"%\", \"title\": \"Retail\"}, \"field\": \"retail_and_recreation_percent_change_from_baseline\"}}, \"height\": 150, \"selection\": {\"selector002\": {\"type\": \"single\", \"fields\": [\"country_region\"], \"bind\": {\"input\": \"select\", \"options\": [\"United Arab Emirates\", \"Afghanistan\", \"Antigua and Barbuda\", \"Angola\", \"Argentina\", \"Austria\", \"Australia\", \"Aruba\", \"Bosnia and Herzegovina\", \"Barbados\", \"Bangladesh\", \"Belgium\", \"Burkina Faso\", \"Bulgaria\", \"Bahrain\", \"Benin\", \"Bolivia\", \"Brazil\", \"The Bahamas\", \"Botswana\", \"Belarus\", \"Belize\", \"Canada\", \"Switzerland\", \"C\\u00f4te d'Ivoire\", \"Chile\", \"Cameroon\", \"Colombia\", \"Costa Rica\", \"Cape Verde\", \"Czechia\", \"Germany\", \"Denmark\", \"Dominican Republic\", \"Ecuador\", \"Estonia\", \"Egypt\", \"Spain\", \"Finland\", \"Fiji\", \"France\", \"Gabon\", \"United Kingdom\", \"Georgia\", \"Ghana\", \"Greece\", \"Guatemala\", \"Guinea-Bissau\", \"Hong Kong\", \"Honduras\", \"Croatia\", \"Haiti\", \"Hungary\", \"Indonesia\", \"Ireland\", \"Israel\", \"India\", \"Iraq\", \"Italy\", \"Jamaica\", \"Jordan\", \"Japan\", \"Kenya\", \"Kyrgyzstan\", \"Cambodia\", \"South Korea\", \"Kuwait\", \"Kazakhstan\", \"Laos\", \"Lebanon\", \"Liechtenstein\", \"Sri Lanka\", \"Lithuania\", \"Luxembourg\", \"Latvia\", \"Libya\", \"Moldova\", \"North Macedonia\", \"Mali\", \"Myanmar (Burma)\", \"Mongolia\", \"Malta\", \"Mauritius\", \"Mexico\", \"Malaysia\", \"Mozambique\", \"Namibia\", \"Niger\", \"Nigeria\", \"Nicaragua\", \"Netherlands\", \"Norway\", \"Nepal\", \"New Zealand\", \"Oman\", \"Panama\", \"Peru\", \"Papua New Guinea\", \"Philippines\", \"Pakistan\", \"Poland\", \"Puerto Rico\", \"Portugal\", \"Paraguay\", \"Qatar\", \"R\\u00e9union\", \"Romania\", \"Serbia\", \"Rwanda\", \"Saudi Arabia\", \"Sweden\", \"Singapore\", \"Slovenia\", \"Slovakia\", \"Senegal\", \"El Salvador\", \"Togo\", \"Thailand\", \"Tajikistan\", \"Turkey\", \"Trinidad and Tobago\", \"Taiwan\", \"Tanzania\", \"Uganda\", \"United States\", \"Uruguay\", \"Venezuela\", \"Vietnam\", \"Yemen\", \"South Africa\", \"Zambia\", \"Zimbabwe\"], \"name\": \"Select Country: \"}}}, \"title\": \"Percent change of Retail from baseline\", \"width\": 300}, {\"vconcat\": [{\"mark\": \"bar\", \"encoding\": {\"color\": {\"condition\": {\"type\": \"nominal\", \"field\": \"country_region\", \"legend\": null, \"selection\": \"selector002\"}, \"value\": \"lightgray\"}, \"x\": {\"type\": \"temporal\", \"axis\": {\"title\": \"Date\"}, \"field\": \"date\"}, \"y\": {\"type\": \"quantitative\", \"axis\": {\"format\": \"%\", \"title\": \"Grocery\"}, \"field\": \"grocery_and_pharmacy_percent_change_from_baseline\"}}, \"height\": 150, \"selection\": {\"selector002\": {\"type\": \"single\", \"fields\": [\"country_region\"], \"bind\": {\"input\": \"select\", \"options\": [\"United Arab Emirates\", \"Afghanistan\", \"Antigua and Barbuda\", \"Angola\", \"Argentina\", \"Austria\", \"Australia\", \"Aruba\", \"Bosnia and Herzegovina\", \"Barbados\", \"Bangladesh\", \"Belgium\", \"Burkina Faso\", \"Bulgaria\", \"Bahrain\", \"Benin\", \"Bolivia\", \"Brazil\", \"The Bahamas\", \"Botswana\", \"Belarus\", \"Belize\", \"Canada\", \"Switzerland\", \"C\\u00f4te d'Ivoire\", \"Chile\", \"Cameroon\", \"Colombia\", \"Costa Rica\", \"Cape Verde\", \"Czechia\", \"Germany\", \"Denmark\", \"Dominican Republic\", \"Ecuador\", \"Estonia\", \"Egypt\", \"Spain\", \"Finland\", \"Fiji\", \"France\", \"Gabon\", \"United Kingdom\", \"Georgia\", \"Ghana\", \"Greece\", \"Guatemala\", \"Guinea-Bissau\", \"Hong Kong\", \"Honduras\", \"Croatia\", \"Haiti\", \"Hungary\", \"Indonesia\", \"Ireland\", \"Israel\", \"India\", \"Iraq\", \"Italy\", \"Jamaica\", \"Jordan\", \"Japan\", \"Kenya\", \"Kyrgyzstan\", \"Cambodia\", \"South Korea\", \"Kuwait\", \"Kazakhstan\", \"Laos\", \"Lebanon\", \"Liechtenstein\", \"Sri Lanka\", \"Lithuania\", \"Luxembourg\", \"Latvia\", \"Libya\", \"Moldova\", \"North Macedonia\", \"Mali\", \"Myanmar (Burma)\", \"Mongolia\", \"Malta\", \"Mauritius\", \"Mexico\", \"Malaysia\", \"Mozambique\", \"Namibia\", \"Niger\", \"Nigeria\", \"Nicaragua\", \"Netherlands\", \"Norway\", \"Nepal\", \"New Zealand\", \"Oman\", \"Panama\", \"Peru\", \"Papua New Guinea\", \"Philippines\", \"Pakistan\", \"Poland\", \"Puerto Rico\", \"Portugal\", \"Paraguay\", \"Qatar\", \"R\\u00e9union\", \"Romania\", \"Serbia\", \"Rwanda\", \"Saudi Arabia\", \"Sweden\", \"Singapore\", \"Slovenia\", \"Slovakia\", \"Senegal\", \"El Salvador\", \"Togo\", \"Thailand\", \"Tajikistan\", \"Turkey\", \"Trinidad and Tobago\", \"Taiwan\", \"Tanzania\", \"Uganda\", \"United States\", \"Uruguay\", \"Venezuela\", \"Vietnam\", \"Yemen\", \"South Africa\", \"Zambia\", \"Zimbabwe\"], \"name\": \"Select Country: \"}}}, \"title\": \"Percent change of Grocery from baseline\", \"width\": 300}, {\"mark\": \"bar\", \"encoding\": {\"color\": {\"condition\": {\"type\": \"nominal\", \"field\": \"country_region\", \"legend\": null, \"selection\": \"selector002\"}, \"value\": \"lightgray\"}, \"x\": {\"type\": \"temporal\", \"axis\": {\"title\": \"Date\"}, \"field\": \"date\"}, \"y\": {\"type\": \"quantitative\", \"axis\": {\"format\": \"%\", \"title\": \"Parks\"}, \"field\": \"parks_percent_change_from_baseline\"}}, \"height\": 150, \"selection\": {\"selector002\": {\"type\": \"single\", \"fields\": [\"country_region\"], \"bind\": {\"input\": \"select\", \"options\": [\"United Arab Emirates\", \"Afghanistan\", \"Antigua and Barbuda\", \"Angola\", \"Argentina\", \"Austria\", \"Australia\", \"Aruba\", \"Bosnia and Herzegovina\", \"Barbados\", \"Bangladesh\", \"Belgium\", \"Burkina Faso\", \"Bulgaria\", \"Bahrain\", \"Benin\", \"Bolivia\", \"Brazil\", \"The Bahamas\", \"Botswana\", \"Belarus\", \"Belize\", \"Canada\", \"Switzerland\", \"C\\u00f4te d'Ivoire\", \"Chile\", \"Cameroon\", \"Colombia\", \"Costa Rica\", \"Cape Verde\", \"Czechia\", \"Germany\", \"Denmark\", \"Dominican Republic\", \"Ecuador\", \"Estonia\", \"Egypt\", \"Spain\", \"Finland\", \"Fiji\", \"France\", \"Gabon\", \"United Kingdom\", \"Georgia\", \"Ghana\", \"Greece\", \"Guatemala\", \"Guinea-Bissau\", \"Hong Kong\", \"Honduras\", \"Croatia\", \"Haiti\", \"Hungary\", \"Indonesia\", \"Ireland\", \"Israel\", \"India\", \"Iraq\", \"Italy\", \"Jamaica\", \"Jordan\", \"Japan\", \"Kenya\", \"Kyrgyzstan\", \"Cambodia\", \"South Korea\", \"Kuwait\", \"Kazakhstan\", \"Laos\", \"Lebanon\", \"Liechtenstein\", \"Sri Lanka\", \"Lithuania\", \"Luxembourg\", \"Latvia\", \"Libya\", \"Moldova\", \"North Macedonia\", \"Mali\", \"Myanmar (Burma)\", \"Mongolia\", \"Malta\", \"Mauritius\", \"Mexico\", \"Malaysia\", \"Mozambique\", \"Namibia\", \"Niger\", \"Nigeria\", \"Nicaragua\", \"Netherlands\", \"Norway\", \"Nepal\", \"New Zealand\", \"Oman\", \"Panama\", \"Peru\", \"Papua New Guinea\", \"Philippines\", \"Pakistan\", \"Poland\", \"Puerto Rico\", \"Portugal\", \"Paraguay\", \"Qatar\", \"R\\u00e9union\", \"Romania\", \"Serbia\", \"Rwanda\", \"Saudi Arabia\", \"Sweden\", \"Singapore\", \"Slovenia\", \"Slovakia\", \"Senegal\", \"El Salvador\", \"Togo\", \"Thailand\", \"Tajikistan\", \"Turkey\", \"Trinidad and Tobago\", \"Taiwan\", \"Tanzania\", \"Uganda\", \"United States\", \"Uruguay\", \"Venezuela\", \"Vietnam\", \"Yemen\", \"South Africa\", \"Zambia\", \"Zimbabwe\"], \"name\": \"Select Country: \"}}}, \"title\": \"Percent change of Parks from baseline\", \"width\": 300}]}]}, {\"vconcat\": [{\"mark\": \"bar\", \"encoding\": {\"color\": {\"condition\": {\"type\": \"nominal\", \"field\": \"country_region\", \"legend\": null, \"selection\": \"selector002\"}, \"value\": \"lightgray\"}, \"x\": {\"type\": \"temporal\", \"axis\": {\"title\": \"Date\"}, \"field\": \"date\"}, \"y\": {\"type\": \"quantitative\", \"axis\": {\"format\": \"%\", \"title\": \"Transit\"}, \"field\": \"transit_stations_percent_change_from_baseline\"}}, \"height\": 150, \"selection\": {\"selector002\": {\"type\": \"single\", \"fields\": [\"country_region\"], \"bind\": {\"input\": \"select\", \"options\": [\"United Arab Emirates\", \"Afghanistan\", \"Antigua and Barbuda\", \"Angola\", \"Argentina\", \"Austria\", \"Australia\", \"Aruba\", \"Bosnia and Herzegovina\", \"Barbados\", \"Bangladesh\", \"Belgium\", \"Burkina Faso\", \"Bulgaria\", \"Bahrain\", \"Benin\", \"Bolivia\", \"Brazil\", \"The Bahamas\", \"Botswana\", \"Belarus\", \"Belize\", \"Canada\", \"Switzerland\", \"C\\u00f4te d'Ivoire\", \"Chile\", \"Cameroon\", \"Colombia\", \"Costa Rica\", \"Cape Verde\", \"Czechia\", \"Germany\", \"Denmark\", \"Dominican Republic\", \"Ecuador\", \"Estonia\", \"Egypt\", \"Spain\", \"Finland\", \"Fiji\", \"France\", \"Gabon\", \"United Kingdom\", \"Georgia\", \"Ghana\", \"Greece\", \"Guatemala\", \"Guinea-Bissau\", \"Hong Kong\", \"Honduras\", \"Croatia\", \"Haiti\", \"Hungary\", \"Indonesia\", \"Ireland\", \"Israel\", \"India\", \"Iraq\", \"Italy\", \"Jamaica\", \"Jordan\", \"Japan\", \"Kenya\", \"Kyrgyzstan\", \"Cambodia\", \"South Korea\", \"Kuwait\", \"Kazakhstan\", \"Laos\", \"Lebanon\", \"Liechtenstein\", \"Sri Lanka\", \"Lithuania\", \"Luxembourg\", \"Latvia\", \"Libya\", \"Moldova\", \"North Macedonia\", \"Mali\", \"Myanmar (Burma)\", \"Mongolia\", \"Malta\", \"Mauritius\", \"Mexico\", \"Malaysia\", \"Mozambique\", \"Namibia\", \"Niger\", \"Nigeria\", \"Nicaragua\", \"Netherlands\", \"Norway\", \"Nepal\", \"New Zealand\", \"Oman\", \"Panama\", \"Peru\", \"Papua New Guinea\", \"Philippines\", \"Pakistan\", \"Poland\", \"Puerto Rico\", \"Portugal\", \"Paraguay\", \"Qatar\", \"R\\u00e9union\", \"Romania\", \"Serbia\", \"Rwanda\", \"Saudi Arabia\", \"Sweden\", \"Singapore\", \"Slovenia\", \"Slovakia\", \"Senegal\", \"El Salvador\", \"Togo\", \"Thailand\", \"Tajikistan\", \"Turkey\", \"Trinidad and Tobago\", \"Taiwan\", \"Tanzania\", \"Uganda\", \"United States\", \"Uruguay\", \"Venezuela\", \"Vietnam\", \"Yemen\", \"South Africa\", \"Zambia\", \"Zimbabwe\"], \"name\": \"Select Country: \"}}}, \"title\": \"Percent change of Transit from baseline\", \"width\": 300}, {\"vconcat\": [{\"mark\": \"bar\", \"encoding\": {\"color\": {\"condition\": {\"type\": \"nominal\", \"field\": \"country_region\", \"legend\": null, \"selection\": \"selector002\"}, \"value\": \"lightgray\"}, \"x\": {\"type\": \"temporal\", \"axis\": {\"title\": \"Date\"}, \"field\": \"date\"}, \"y\": {\"type\": \"quantitative\", \"axis\": {\"format\": \"%\", \"title\": \"Workplaces\"}, \"field\": \"workplaces_percent_change_from_baseline\"}}, \"height\": 150, \"selection\": {\"selector002\": {\"type\": \"single\", \"fields\": [\"country_region\"], \"bind\": {\"input\": \"select\", \"options\": [\"United Arab Emirates\", \"Afghanistan\", \"Antigua and Barbuda\", \"Angola\", \"Argentina\", \"Austria\", \"Australia\", \"Aruba\", \"Bosnia and Herzegovina\", \"Barbados\", \"Bangladesh\", \"Belgium\", \"Burkina Faso\", \"Bulgaria\", \"Bahrain\", \"Benin\", \"Bolivia\", \"Brazil\", \"The Bahamas\", \"Botswana\", \"Belarus\", \"Belize\", \"Canada\", \"Switzerland\", \"C\\u00f4te d'Ivoire\", \"Chile\", \"Cameroon\", \"Colombia\", \"Costa Rica\", \"Cape Verde\", \"Czechia\", \"Germany\", \"Denmark\", \"Dominican Republic\", \"Ecuador\", \"Estonia\", \"Egypt\", \"Spain\", \"Finland\", \"Fiji\", \"France\", \"Gabon\", \"United Kingdom\", \"Georgia\", \"Ghana\", \"Greece\", \"Guatemala\", \"Guinea-Bissau\", \"Hong Kong\", \"Honduras\", \"Croatia\", \"Haiti\", \"Hungary\", \"Indonesia\", \"Ireland\", \"Israel\", \"India\", \"Iraq\", \"Italy\", \"Jamaica\", \"Jordan\", \"Japan\", \"Kenya\", \"Kyrgyzstan\", \"Cambodia\", \"South Korea\", \"Kuwait\", \"Kazakhstan\", \"Laos\", \"Lebanon\", \"Liechtenstein\", \"Sri Lanka\", \"Lithuania\", \"Luxembourg\", \"Latvia\", \"Libya\", \"Moldova\", \"North Macedonia\", \"Mali\", \"Myanmar (Burma)\", \"Mongolia\", \"Malta\", \"Mauritius\", \"Mexico\", \"Malaysia\", \"Mozambique\", \"Namibia\", \"Niger\", \"Nigeria\", \"Nicaragua\", \"Netherlands\", \"Norway\", \"Nepal\", \"New Zealand\", \"Oman\", \"Panama\", \"Peru\", \"Papua New Guinea\", \"Philippines\", \"Pakistan\", \"Poland\", \"Puerto Rico\", \"Portugal\", \"Paraguay\", \"Qatar\", \"R\\u00e9union\", \"Romania\", \"Serbia\", \"Rwanda\", \"Saudi Arabia\", \"Sweden\", \"Singapore\", \"Slovenia\", \"Slovakia\", \"Senegal\", \"El Salvador\", \"Togo\", \"Thailand\", \"Tajikistan\", \"Turkey\", \"Trinidad and Tobago\", \"Taiwan\", \"Tanzania\", \"Uganda\", \"United States\", \"Uruguay\", \"Venezuela\", \"Vietnam\", \"Yemen\", \"South Africa\", \"Zambia\", \"Zimbabwe\"], \"name\": \"Select Country: \"}}}, \"title\": \"Percent change of Workplaces from baseline\", \"width\": 300}, {\"mark\": \"bar\", \"encoding\": {\"color\": {\"condition\": {\"type\": \"nominal\", \"field\": \"country_region\", \"legend\": null, \"selection\": \"selector002\"}, \"value\": \"lightgray\"}, \"x\": {\"type\": \"temporal\", \"axis\": {\"title\": \"Date\"}, \"field\": \"date\"}, \"y\": {\"type\": \"quantitative\", \"axis\": {\"format\": \"%\", \"title\": \"Residential\"}, \"field\": \"residential_percent_change_from_baseline\"}}, \"height\": 150, \"selection\": {\"selector002\": {\"type\": \"single\", \"fields\": [\"country_region\"], \"bind\": {\"input\": \"select\", \"options\": [\"United Arab Emirates\", \"Afghanistan\", \"Antigua and Barbuda\", \"Angola\", \"Argentina\", \"Austria\", \"Australia\", \"Aruba\", \"Bosnia and Herzegovina\", \"Barbados\", \"Bangladesh\", \"Belgium\", \"Burkina Faso\", \"Bulgaria\", \"Bahrain\", \"Benin\", \"Bolivia\", \"Brazil\", \"The Bahamas\", \"Botswana\", \"Belarus\", \"Belize\", \"Canada\", \"Switzerland\", \"C\\u00f4te d'Ivoire\", \"Chile\", \"Cameroon\", \"Colombia\", \"Costa Rica\", \"Cape Verde\", \"Czechia\", \"Germany\", \"Denmark\", \"Dominican Republic\", \"Ecuador\", \"Estonia\", \"Egypt\", \"Spain\", \"Finland\", \"Fiji\", \"France\", \"Gabon\", \"United Kingdom\", \"Georgia\", \"Ghana\", \"Greece\", \"Guatemala\", \"Guinea-Bissau\", \"Hong Kong\", \"Honduras\", \"Croatia\", \"Haiti\", \"Hungary\", \"Indonesia\", \"Ireland\", \"Israel\", \"India\", \"Iraq\", \"Italy\", \"Jamaica\", \"Jordan\", \"Japan\", \"Kenya\", \"Kyrgyzstan\", \"Cambodia\", \"South Korea\", \"Kuwait\", \"Kazakhstan\", \"Laos\", \"Lebanon\", \"Liechtenstein\", \"Sri Lanka\", \"Lithuania\", \"Luxembourg\", \"Latvia\", \"Libya\", \"Moldova\", \"North Macedonia\", \"Mali\", \"Myanmar (Burma)\", \"Mongolia\", \"Malta\", \"Mauritius\", \"Mexico\", \"Malaysia\", \"Mozambique\", \"Namibia\", \"Niger\", \"Nigeria\", \"Nicaragua\", \"Netherlands\", \"Norway\", \"Nepal\", \"New Zealand\", \"Oman\", \"Panama\", \"Peru\", \"Papua New Guinea\", \"Philippines\", \"Pakistan\", \"Poland\", \"Puerto Rico\", \"Portugal\", \"Paraguay\", \"Qatar\", \"R\\u00e9union\", \"Romania\", \"Serbia\", \"Rwanda\", \"Saudi Arabia\", \"Sweden\", \"Singapore\", \"Slovenia\", \"Slovakia\", \"Senegal\", \"El Salvador\", \"Togo\", \"Thailand\", \"Tajikistan\", \"Turkey\", \"Trinidad and Tobago\", \"Taiwan\", \"Tanzania\", \"Uganda\", \"United States\", \"Uruguay\", \"Venezuela\", \"Vietnam\", \"Yemen\", \"South Africa\", \"Zambia\", \"Zimbabwe\"], \"name\": \"Select Country: \"}}}, \"title\": \"Percent change of Residential from baseline\", \"width\": 300}]}]}], \"data\": {\"url\": \"altair-data-fbfb25ebe9f0d0774f1513d6fdbdba98.json\", \"format\": {\"type\": \"json\"}}, \"$schema\": \"https://vega.github.io/schema/vega-lite/v4.8.1.json\"}, {\"mode\": \"vega-lite\"});\n",
       "</script>"
      ],
      "text/plain": [
       "alt.HConcatChart(...)"
      ]
     },
     "execution_count": 7,
     "metadata": {},
     "output_type": "execute_result"
    }
   ],
   "source": [
    "generate_charts(data, data.columns[5:], full_dataset=True)"
   ]
  },
  {
   "cell_type": "code",
   "execution_count": null,
   "metadata": {},
   "outputs": [],
   "source": []
  }
 ],
 "metadata": {
  "kernelspec": {
   "display_name": "Default",
   "language": "python",
   "name": "default"
  },
  "language_info": {
   "codemirror_mode": {
    "name": "ipython",
    "version": 3
   },
   "file_extension": ".py",
   "mimetype": "text/x-python",
   "name": "python",
   "nbconvert_exporter": "python",
   "pygments_lexer": "ipython3",
   "version": "3.6.8"
  }
 },
 "nbformat": 4,
 "nbformat_minor": 4
}
