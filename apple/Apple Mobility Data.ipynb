{
 "cells": [
  {
   "cell_type": "markdown",
   "metadata": {},
   "source": [
    "# Apple Mobility Trends\n",
    "## Data Visualisation"
   ]
  },
  {
   "cell_type": "code",
   "execution_count": 1,
   "metadata": {},
   "outputs": [],
   "source": [
    "# Basic Libraries\n",
    "import numpy as np\n",
    "import pandas as pd\n",
    "import altair as alt\n",
    "import seaborn as sb\n",
    "import matplotlib.pyplot as plt # we only need pyplot\n",
    "sb.set() # set the default Seaborn style for graphics"
   ]
  },
  {
   "cell_type": "code",
   "execution_count": 2,
   "metadata": {},
   "outputs": [
    {
     "data": {
      "text/html": [
       "<div>\n",
       "<style scoped>\n",
       "    .dataframe tbody tr th:only-of-type {\n",
       "        vertical-align: middle;\n",
       "    }\n",
       "\n",
       "    .dataframe tbody tr th {\n",
       "        vertical-align: top;\n",
       "    }\n",
       "\n",
       "    .dataframe thead th {\n",
       "        text-align: right;\n",
       "    }\n",
       "</style>\n",
       "<table border=\"1\" class=\"dataframe\">\n",
       "  <thead>\n",
       "    <tr style=\"text-align: right;\">\n",
       "      <th></th>\n",
       "      <th>geo_type</th>\n",
       "      <th>region</th>\n",
       "      <th>transportation_type</th>\n",
       "      <th>alternative_name</th>\n",
       "      <th>sub-region</th>\n",
       "      <th>country</th>\n",
       "      <th>2020-01-13</th>\n",
       "      <th>2020-01-14</th>\n",
       "      <th>2020-01-15</th>\n",
       "      <th>2020-01-16</th>\n",
       "      <th>...</th>\n",
       "      <th>2020-05-10</th>\n",
       "      <th>2020-05-11</th>\n",
       "      <th>2020-05-12</th>\n",
       "      <th>2020-05-13</th>\n",
       "      <th>2020-05-14</th>\n",
       "      <th>2020-05-15</th>\n",
       "      <th>2020-05-16</th>\n",
       "      <th>2020-05-17</th>\n",
       "      <th>2020-05-18</th>\n",
       "      <th>2020-05-19</th>\n",
       "    </tr>\n",
       "  </thead>\n",
       "  <tbody>\n",
       "    <tr>\n",
       "      <th>0</th>\n",
       "      <td>country/region</td>\n",
       "      <td>Albania</td>\n",
       "      <td>driving</td>\n",
       "      <td>NaN</td>\n",
       "      <td>NaN</td>\n",
       "      <td>NaN</td>\n",
       "      <td>100.0</td>\n",
       "      <td>95.30</td>\n",
       "      <td>101.43</td>\n",
       "      <td>97.20</td>\n",
       "      <td>...</td>\n",
       "      <td>45.39</td>\n",
       "      <td>NaN</td>\n",
       "      <td>NaN</td>\n",
       "      <td>49.19</td>\n",
       "      <td>50.20</td>\n",
       "      <td>48.30</td>\n",
       "      <td>46.78</td>\n",
       "      <td>45.51</td>\n",
       "      <td>56.09</td>\n",
       "      <td>51.12</td>\n",
       "    </tr>\n",
       "    <tr>\n",
       "      <th>1</th>\n",
       "      <td>country/region</td>\n",
       "      <td>Albania</td>\n",
       "      <td>walking</td>\n",
       "      <td>NaN</td>\n",
       "      <td>NaN</td>\n",
       "      <td>NaN</td>\n",
       "      <td>100.0</td>\n",
       "      <td>100.68</td>\n",
       "      <td>98.93</td>\n",
       "      <td>98.46</td>\n",
       "      <td>...</td>\n",
       "      <td>68.87</td>\n",
       "      <td>NaN</td>\n",
       "      <td>NaN</td>\n",
       "      <td>61.79</td>\n",
       "      <td>56.46</td>\n",
       "      <td>54.41</td>\n",
       "      <td>48.36</td>\n",
       "      <td>45.20</td>\n",
       "      <td>67.46</td>\n",
       "      <td>63.20</td>\n",
       "    </tr>\n",
       "    <tr>\n",
       "      <th>2</th>\n",
       "      <td>country/region</td>\n",
       "      <td>Argentina</td>\n",
       "      <td>driving</td>\n",
       "      <td>NaN</td>\n",
       "      <td>NaN</td>\n",
       "      <td>NaN</td>\n",
       "      <td>100.0</td>\n",
       "      <td>97.07</td>\n",
       "      <td>102.45</td>\n",
       "      <td>111.21</td>\n",
       "      <td>...</td>\n",
       "      <td>19.82</td>\n",
       "      <td>NaN</td>\n",
       "      <td>NaN</td>\n",
       "      <td>38.87</td>\n",
       "      <td>41.01</td>\n",
       "      <td>44.34</td>\n",
       "      <td>38.29</td>\n",
       "      <td>22.01</td>\n",
       "      <td>40.01</td>\n",
       "      <td>41.34</td>\n",
       "    </tr>\n",
       "    <tr>\n",
       "      <th>3</th>\n",
       "      <td>country/region</td>\n",
       "      <td>Argentina</td>\n",
       "      <td>walking</td>\n",
       "      <td>NaN</td>\n",
       "      <td>NaN</td>\n",
       "      <td>NaN</td>\n",
       "      <td>100.0</td>\n",
       "      <td>95.11</td>\n",
       "      <td>101.37</td>\n",
       "      <td>112.67</td>\n",
       "      <td>...</td>\n",
       "      <td>15.58</td>\n",
       "      <td>NaN</td>\n",
       "      <td>NaN</td>\n",
       "      <td>28.33</td>\n",
       "      <td>28.44</td>\n",
       "      <td>31.63</td>\n",
       "      <td>28.81</td>\n",
       "      <td>18.49</td>\n",
       "      <td>30.79</td>\n",
       "      <td>30.37</td>\n",
       "    </tr>\n",
       "    <tr>\n",
       "      <th>4</th>\n",
       "      <td>country/region</td>\n",
       "      <td>Australia</td>\n",
       "      <td>driving</td>\n",
       "      <td>AU</td>\n",
       "      <td>NaN</td>\n",
       "      <td>NaN</td>\n",
       "      <td>100.0</td>\n",
       "      <td>102.98</td>\n",
       "      <td>104.21</td>\n",
       "      <td>108.63</td>\n",
       "      <td>...</td>\n",
       "      <td>63.56</td>\n",
       "      <td>NaN</td>\n",
       "      <td>NaN</td>\n",
       "      <td>71.12</td>\n",
       "      <td>77.24</td>\n",
       "      <td>79.75</td>\n",
       "      <td>65.88</td>\n",
       "      <td>72.17</td>\n",
       "      <td>73.58</td>\n",
       "      <td>75.83</td>\n",
       "    </tr>\n",
       "    <tr>\n",
       "      <th>...</th>\n",
       "      <td>...</td>\n",
       "      <td>...</td>\n",
       "      <td>...</td>\n",
       "      <td>...</td>\n",
       "      <td>...</td>\n",
       "      <td>...</td>\n",
       "      <td>...</td>\n",
       "      <td>...</td>\n",
       "      <td>...</td>\n",
       "      <td>...</td>\n",
       "      <td>...</td>\n",
       "      <td>...</td>\n",
       "      <td>...</td>\n",
       "      <td>...</td>\n",
       "      <td>...</td>\n",
       "      <td>...</td>\n",
       "      <td>...</td>\n",
       "      <td>...</td>\n",
       "      <td>...</td>\n",
       "      <td>...</td>\n",
       "      <td>...</td>\n",
       "    </tr>\n",
       "    <tr>\n",
       "      <th>129</th>\n",
       "      <td>country/region</td>\n",
       "      <td>Switzerland</td>\n",
       "      <td>driving</td>\n",
       "      <td>Schweiz</td>\n",
       "      <td>NaN</td>\n",
       "      <td>NaN</td>\n",
       "      <td>100.0</td>\n",
       "      <td>102.35</td>\n",
       "      <td>108.16</td>\n",
       "      <td>106.47</td>\n",
       "      <td>...</td>\n",
       "      <td>81.00</td>\n",
       "      <td>NaN</td>\n",
       "      <td>NaN</td>\n",
       "      <td>91.13</td>\n",
       "      <td>89.20</td>\n",
       "      <td>94.85</td>\n",
       "      <td>92.88</td>\n",
       "      <td>97.96</td>\n",
       "      <td>101.07</td>\n",
       "      <td>104.05</td>\n",
       "    </tr>\n",
       "    <tr>\n",
       "      <th>130</th>\n",
       "      <td>country/region</td>\n",
       "      <td>Switzerland</td>\n",
       "      <td>transit</td>\n",
       "      <td>Schweiz</td>\n",
       "      <td>NaN</td>\n",
       "      <td>NaN</td>\n",
       "      <td>100.0</td>\n",
       "      <td>102.26</td>\n",
       "      <td>106.79</td>\n",
       "      <td>100.41</td>\n",
       "      <td>...</td>\n",
       "      <td>44.98</td>\n",
       "      <td>NaN</td>\n",
       "      <td>NaN</td>\n",
       "      <td>51.33</td>\n",
       "      <td>48.93</td>\n",
       "      <td>49.60</td>\n",
       "      <td>50.22</td>\n",
       "      <td>53.13</td>\n",
       "      <td>58.28</td>\n",
       "      <td>57.63</td>\n",
       "    </tr>\n",
       "    <tr>\n",
       "      <th>131</th>\n",
       "      <td>country/region</td>\n",
       "      <td>Switzerland</td>\n",
       "      <td>walking</td>\n",
       "      <td>Schweiz</td>\n",
       "      <td>NaN</td>\n",
       "      <td>NaN</td>\n",
       "      <td>100.0</td>\n",
       "      <td>107.83</td>\n",
       "      <td>116.33</td>\n",
       "      <td>115.19</td>\n",
       "      <td>...</td>\n",
       "      <td>68.26</td>\n",
       "      <td>NaN</td>\n",
       "      <td>NaN</td>\n",
       "      <td>73.34</td>\n",
       "      <td>77.18</td>\n",
       "      <td>83.22</td>\n",
       "      <td>91.23</td>\n",
       "      <td>86.25</td>\n",
       "      <td>91.26</td>\n",
       "      <td>95.24</td>\n",
       "    </tr>\n",
       "    <tr>\n",
       "      <th>132</th>\n",
       "      <td>country/region</td>\n",
       "      <td>Taiwan</td>\n",
       "      <td>driving</td>\n",
       "      <td>台灣|臺灣</td>\n",
       "      <td>NaN</td>\n",
       "      <td>NaN</td>\n",
       "      <td>100.0</td>\n",
       "      <td>106.97</td>\n",
       "      <td>113.81</td>\n",
       "      <td>118.64</td>\n",
       "      <td>...</td>\n",
       "      <td>96.03</td>\n",
       "      <td>NaN</td>\n",
       "      <td>NaN</td>\n",
       "      <td>87.89</td>\n",
       "      <td>94.38</td>\n",
       "      <td>122.17</td>\n",
       "      <td>118.95</td>\n",
       "      <td>98.45</td>\n",
       "      <td>80.94</td>\n",
       "      <td>81.29</td>\n",
       "    </tr>\n",
       "    <tr>\n",
       "      <th>133</th>\n",
       "      <td>country/region</td>\n",
       "      <td>Taiwan</td>\n",
       "      <td>transit</td>\n",
       "      <td>台灣|臺灣</td>\n",
       "      <td>NaN</td>\n",
       "      <td>NaN</td>\n",
       "      <td>100.0</td>\n",
       "      <td>107.64</td>\n",
       "      <td>119.93</td>\n",
       "      <td>124.10</td>\n",
       "      <td>...</td>\n",
       "      <td>57.63</td>\n",
       "      <td>NaN</td>\n",
       "      <td>NaN</td>\n",
       "      <td>58.82</td>\n",
       "      <td>66.44</td>\n",
       "      <td>83.79</td>\n",
       "      <td>72.99</td>\n",
       "      <td>60.45</td>\n",
       "      <td>53.53</td>\n",
       "      <td>55.60</td>\n",
       "    </tr>\n",
       "  </tbody>\n",
       "</table>\n",
       "<p>134 rows × 134 columns</p>\n",
       "</div>"
      ],
      "text/plain": [
       "           geo_type       region transportation_type alternative_name  \\\n",
       "0    country/region      Albania             driving              NaN   \n",
       "1    country/region      Albania             walking              NaN   \n",
       "2    country/region    Argentina             driving              NaN   \n",
       "3    country/region    Argentina             walking              NaN   \n",
       "4    country/region    Australia             driving               AU   \n",
       "..              ...          ...                 ...              ...   \n",
       "129  country/region  Switzerland             driving          Schweiz   \n",
       "130  country/region  Switzerland             transit          Schweiz   \n",
       "131  country/region  Switzerland             walking          Schweiz   \n",
       "132  country/region       Taiwan             driving            台灣|臺灣   \n",
       "133  country/region       Taiwan             transit            台灣|臺灣   \n",
       "\n",
       "    sub-region country  2020-01-13  2020-01-14  2020-01-15  2020-01-16  ...  \\\n",
       "0          NaN     NaN       100.0       95.30      101.43       97.20  ...   \n",
       "1          NaN     NaN       100.0      100.68       98.93       98.46  ...   \n",
       "2          NaN     NaN       100.0       97.07      102.45      111.21  ...   \n",
       "3          NaN     NaN       100.0       95.11      101.37      112.67  ...   \n",
       "4          NaN     NaN       100.0      102.98      104.21      108.63  ...   \n",
       "..         ...     ...         ...         ...         ...         ...  ...   \n",
       "129        NaN     NaN       100.0      102.35      108.16      106.47  ...   \n",
       "130        NaN     NaN       100.0      102.26      106.79      100.41  ...   \n",
       "131        NaN     NaN       100.0      107.83      116.33      115.19  ...   \n",
       "132        NaN     NaN       100.0      106.97      113.81      118.64  ...   \n",
       "133        NaN     NaN       100.0      107.64      119.93      124.10  ...   \n",
       "\n",
       "     2020-05-10  2020-05-11  2020-05-12  2020-05-13  2020-05-14  2020-05-15  \\\n",
       "0         45.39         NaN         NaN       49.19       50.20       48.30   \n",
       "1         68.87         NaN         NaN       61.79       56.46       54.41   \n",
       "2         19.82         NaN         NaN       38.87       41.01       44.34   \n",
       "3         15.58         NaN         NaN       28.33       28.44       31.63   \n",
       "4         63.56         NaN         NaN       71.12       77.24       79.75   \n",
       "..          ...         ...         ...         ...         ...         ...   \n",
       "129       81.00         NaN         NaN       91.13       89.20       94.85   \n",
       "130       44.98         NaN         NaN       51.33       48.93       49.60   \n",
       "131       68.26         NaN         NaN       73.34       77.18       83.22   \n",
       "132       96.03         NaN         NaN       87.89       94.38      122.17   \n",
       "133       57.63         NaN         NaN       58.82       66.44       83.79   \n",
       "\n",
       "     2020-05-16  2020-05-17  2020-05-18  2020-05-19  \n",
       "0         46.78       45.51       56.09       51.12  \n",
       "1         48.36       45.20       67.46       63.20  \n",
       "2         38.29       22.01       40.01       41.34  \n",
       "3         28.81       18.49       30.79       30.37  \n",
       "4         65.88       72.17       73.58       75.83  \n",
       "..          ...         ...         ...         ...  \n",
       "129       92.88       97.96      101.07      104.05  \n",
       "130       50.22       53.13       58.28       57.63  \n",
       "131       91.23       86.25       91.26       95.24  \n",
       "132      118.95       98.45       80.94       81.29  \n",
       "133       72.99       60.45       53.53       55.60  \n",
       "\n",
       "[134 rows x 134 columns]"
      ]
     },
     "execution_count": 2,
     "metadata": {},
     "output_type": "execute_result"
    }
   ],
   "source": [
    "#Importing the Dataset\n",
    "apple = pd.read_csv('appledata.csv')\n",
    "apple.head(134)"
   ]
  },
  {
   "cell_type": "code",
   "execution_count": 3,
   "metadata": {},
   "outputs": [
    {
     "data": {
      "text/html": [
       "<div>\n",
       "<style scoped>\n",
       "    .dataframe tbody tr th:only-of-type {\n",
       "        vertical-align: middle;\n",
       "    }\n",
       "\n",
       "    .dataframe tbody tr th {\n",
       "        vertical-align: top;\n",
       "    }\n",
       "\n",
       "    .dataframe thead th {\n",
       "        text-align: right;\n",
       "    }\n",
       "</style>\n",
       "<table border=\"1\" class=\"dataframe\">\n",
       "  <thead>\n",
       "    <tr style=\"text-align: right;\">\n",
       "      <th></th>\n",
       "      <th>geo_type</th>\n",
       "      <th>region</th>\n",
       "      <th>transportation_type</th>\n",
       "      <th>alternative_name</th>\n",
       "      <th>sub-region</th>\n",
       "      <th>country</th>\n",
       "      <th>2020-01-13</th>\n",
       "      <th>2020-01-14</th>\n",
       "      <th>2020-01-15</th>\n",
       "      <th>2020-01-16</th>\n",
       "      <th>...</th>\n",
       "      <th>2020-05-10</th>\n",
       "      <th>2020-05-11</th>\n",
       "      <th>2020-05-12</th>\n",
       "      <th>2020-05-13</th>\n",
       "      <th>2020-05-14</th>\n",
       "      <th>2020-05-15</th>\n",
       "      <th>2020-05-16</th>\n",
       "      <th>2020-05-17</th>\n",
       "      <th>2020-05-18</th>\n",
       "      <th>2020-05-19</th>\n",
       "    </tr>\n",
       "  </thead>\n",
       "  <tbody>\n",
       "    <tr>\n",
       "      <th>113</th>\n",
       "      <td>country/region</td>\n",
       "      <td>Singapore</td>\n",
       "      <td>driving</td>\n",
       "      <td>NaN</td>\n",
       "      <td>NaN</td>\n",
       "      <td>NaN</td>\n",
       "      <td>100.0</td>\n",
       "      <td>101.95</td>\n",
       "      <td>103.48</td>\n",
       "      <td>112.19</td>\n",
       "      <td>...</td>\n",
       "      <td>42.86</td>\n",
       "      <td>NaN</td>\n",
       "      <td>NaN</td>\n",
       "      <td>42.48</td>\n",
       "      <td>44.11</td>\n",
       "      <td>47.99</td>\n",
       "      <td>42.49</td>\n",
       "      <td>42.77</td>\n",
       "      <td>43.19</td>\n",
       "      <td>43.42</td>\n",
       "    </tr>\n",
       "    <tr>\n",
       "      <th>114</th>\n",
       "      <td>country/region</td>\n",
       "      <td>Singapore</td>\n",
       "      <td>transit</td>\n",
       "      <td>NaN</td>\n",
       "      <td>NaN</td>\n",
       "      <td>NaN</td>\n",
       "      <td>100.0</td>\n",
       "      <td>98.45</td>\n",
       "      <td>96.46</td>\n",
       "      <td>105.04</td>\n",
       "      <td>...</td>\n",
       "      <td>14.49</td>\n",
       "      <td>NaN</td>\n",
       "      <td>NaN</td>\n",
       "      <td>15.11</td>\n",
       "      <td>15.28</td>\n",
       "      <td>16.09</td>\n",
       "      <td>15.17</td>\n",
       "      <td>16.76</td>\n",
       "      <td>16.11</td>\n",
       "      <td>16.29</td>\n",
       "    </tr>\n",
       "    <tr>\n",
       "      <th>115</th>\n",
       "      <td>country/region</td>\n",
       "      <td>Singapore</td>\n",
       "      <td>walking</td>\n",
       "      <td>NaN</td>\n",
       "      <td>NaN</td>\n",
       "      <td>NaN</td>\n",
       "      <td>100.0</td>\n",
       "      <td>104.42</td>\n",
       "      <td>104.79</td>\n",
       "      <td>110.50</td>\n",
       "      <td>...</td>\n",
       "      <td>29.52</td>\n",
       "      <td>NaN</td>\n",
       "      <td>NaN</td>\n",
       "      <td>29.40</td>\n",
       "      <td>30.30</td>\n",
       "      <td>34.17</td>\n",
       "      <td>31.67</td>\n",
       "      <td>30.82</td>\n",
       "      <td>29.73</td>\n",
       "      <td>29.48</td>\n",
       "    </tr>\n",
       "  </tbody>\n",
       "</table>\n",
       "<p>3 rows × 134 columns</p>\n",
       "</div>"
      ],
      "text/plain": [
       "           geo_type     region transportation_type alternative_name  \\\n",
       "113  country/region  Singapore             driving              NaN   \n",
       "114  country/region  Singapore             transit              NaN   \n",
       "115  country/region  Singapore             walking              NaN   \n",
       "\n",
       "    sub-region country  2020-01-13  2020-01-14  2020-01-15  2020-01-16  ...  \\\n",
       "113        NaN     NaN       100.0      101.95      103.48      112.19  ...   \n",
       "114        NaN     NaN       100.0       98.45       96.46      105.04  ...   \n",
       "115        NaN     NaN       100.0      104.42      104.79      110.50  ...   \n",
       "\n",
       "     2020-05-10  2020-05-11  2020-05-12  2020-05-13  2020-05-14  2020-05-15  \\\n",
       "113       42.86         NaN         NaN       42.48       44.11       47.99   \n",
       "114       14.49         NaN         NaN       15.11       15.28       16.09   \n",
       "115       29.52         NaN         NaN       29.40       30.30       34.17   \n",
       "\n",
       "     2020-05-16  2020-05-17  2020-05-18  2020-05-19  \n",
       "113       42.49       42.77       43.19       43.42  \n",
       "114       15.17       16.76       16.11       16.29  \n",
       "115       31.67       30.82       29.73       29.48  \n",
       "\n",
       "[3 rows x 134 columns]"
      ]
     },
     "execution_count": 3,
     "metadata": {},
     "output_type": "execute_result"
    }
   ],
   "source": [
    "#Extract data only for Singapore\n",
    "singapore = apple[apple[\"region\"] == 'Singapore']\n",
    "singapore.head()"
   ]
  },
  {
   "cell_type": "code",
   "execution_count": 4,
   "metadata": {},
   "outputs": [
    {
     "data": {
      "text/html": [
       "<div>\n",
       "<style scoped>\n",
       "    .dataframe tbody tr th:only-of-type {\n",
       "        vertical-align: middle;\n",
       "    }\n",
       "\n",
       "    .dataframe tbody tr th {\n",
       "        vertical-align: top;\n",
       "    }\n",
       "\n",
       "    .dataframe thead th {\n",
       "        text-align: right;\n",
       "    }\n",
       "</style>\n",
       "<table border=\"1\" class=\"dataframe\">\n",
       "  <thead>\n",
       "    <tr style=\"text-align: right;\">\n",
       "      <th></th>\n",
       "      <th>transportation_type</th>\n",
       "      <th>2020-01-13</th>\n",
       "      <th>2020-01-14</th>\n",
       "      <th>2020-01-15</th>\n",
       "      <th>2020-01-16</th>\n",
       "      <th>2020-01-17</th>\n",
       "      <th>2020-01-18</th>\n",
       "      <th>2020-01-19</th>\n",
       "      <th>2020-01-20</th>\n",
       "      <th>2020-01-21</th>\n",
       "      <th>...</th>\n",
       "      <th>2020-05-08</th>\n",
       "      <th>2020-05-09</th>\n",
       "      <th>2020-05-10</th>\n",
       "      <th>2020-05-13</th>\n",
       "      <th>2020-05-14</th>\n",
       "      <th>2020-05-15</th>\n",
       "      <th>2020-05-16</th>\n",
       "      <th>2020-05-17</th>\n",
       "      <th>2020-05-18</th>\n",
       "      <th>2020-05-19</th>\n",
       "    </tr>\n",
       "  </thead>\n",
       "  <tbody>\n",
       "    <tr>\n",
       "      <th>113</th>\n",
       "      <td>driving</td>\n",
       "      <td>100.0</td>\n",
       "      <td>101.95</td>\n",
       "      <td>103.48</td>\n",
       "      <td>112.19</td>\n",
       "      <td>124.68</td>\n",
       "      <td>107.62</td>\n",
       "      <td>100.58</td>\n",
       "      <td>104.77</td>\n",
       "      <td>104.16</td>\n",
       "      <td>...</td>\n",
       "      <td>44.61</td>\n",
       "      <td>45.58</td>\n",
       "      <td>42.86</td>\n",
       "      <td>42.48</td>\n",
       "      <td>44.11</td>\n",
       "      <td>47.99</td>\n",
       "      <td>42.49</td>\n",
       "      <td>42.77</td>\n",
       "      <td>43.19</td>\n",
       "      <td>43.42</td>\n",
       "    </tr>\n",
       "    <tr>\n",
       "      <th>114</th>\n",
       "      <td>transit</td>\n",
       "      <td>100.0</td>\n",
       "      <td>98.45</td>\n",
       "      <td>96.46</td>\n",
       "      <td>105.04</td>\n",
       "      <td>120.40</td>\n",
       "      <td>107.33</td>\n",
       "      <td>93.66</td>\n",
       "      <td>92.37</td>\n",
       "      <td>92.08</td>\n",
       "      <td>...</td>\n",
       "      <td>14.58</td>\n",
       "      <td>13.82</td>\n",
       "      <td>14.49</td>\n",
       "      <td>15.11</td>\n",
       "      <td>15.28</td>\n",
       "      <td>16.09</td>\n",
       "      <td>15.17</td>\n",
       "      <td>16.76</td>\n",
       "      <td>16.11</td>\n",
       "      <td>16.29</td>\n",
       "    </tr>\n",
       "    <tr>\n",
       "      <th>115</th>\n",
       "      <td>walking</td>\n",
       "      <td>100.0</td>\n",
       "      <td>104.42</td>\n",
       "      <td>104.79</td>\n",
       "      <td>110.50</td>\n",
       "      <td>133.23</td>\n",
       "      <td>122.37</td>\n",
       "      <td>100.68</td>\n",
       "      <td>98.06</td>\n",
       "      <td>101.62</td>\n",
       "      <td>...</td>\n",
       "      <td>33.30</td>\n",
       "      <td>34.56</td>\n",
       "      <td>29.52</td>\n",
       "      <td>29.40</td>\n",
       "      <td>30.30</td>\n",
       "      <td>34.17</td>\n",
       "      <td>31.67</td>\n",
       "      <td>30.82</td>\n",
       "      <td>29.73</td>\n",
       "      <td>29.48</td>\n",
       "    </tr>\n",
       "  </tbody>\n",
       "</table>\n",
       "<p>3 rows × 127 columns</p>\n",
       "</div>"
      ],
      "text/plain": [
       "    transportation_type  2020-01-13  2020-01-14  2020-01-15  2020-01-16  \\\n",
       "113             driving       100.0      101.95      103.48      112.19   \n",
       "114             transit       100.0       98.45       96.46      105.04   \n",
       "115             walking       100.0      104.42      104.79      110.50   \n",
       "\n",
       "     2020-01-17  2020-01-18  2020-01-19  2020-01-20  2020-01-21  ...  \\\n",
       "113      124.68      107.62      100.58      104.77      104.16  ...   \n",
       "114      120.40      107.33       93.66       92.37       92.08  ...   \n",
       "115      133.23      122.37      100.68       98.06      101.62  ...   \n",
       "\n",
       "     2020-05-08  2020-05-09  2020-05-10  2020-05-13  2020-05-14  2020-05-15  \\\n",
       "113       44.61       45.58       42.86       42.48       44.11       47.99   \n",
       "114       14.58       13.82       14.49       15.11       15.28       16.09   \n",
       "115       33.30       34.56       29.52       29.40       30.30       34.17   \n",
       "\n",
       "     2020-05-16  2020-05-17  2020-05-18  2020-05-19  \n",
       "113       42.49       42.77       43.19       43.42  \n",
       "114       15.17       16.76       16.11       16.29  \n",
       "115       31.67       30.82       29.73       29.48  \n",
       "\n",
       "[3 rows x 127 columns]"
      ]
     },
     "execution_count": 4,
     "metadata": {},
     "output_type": "execute_result"
    }
   ],
   "source": [
    "#Drop some columns that are unnecessary and drop NaN Values\n",
    "singapore = singapore.drop(['geo_type', 'region', 'alternative_name', 'sub-region', 'country', '2020-05-11', '2020-05-12'], axis = 1)\n",
    "singapore.head()"
   ]
  },
  {
   "cell_type": "code",
   "execution_count": 5,
   "metadata": {},
   "outputs": [
    {
     "data": {
      "text/html": [
       "<div>\n",
       "<style scoped>\n",
       "    .dataframe tbody tr th:only-of-type {\n",
       "        vertical-align: middle;\n",
       "    }\n",
       "\n",
       "    .dataframe tbody tr th {\n",
       "        vertical-align: top;\n",
       "    }\n",
       "\n",
       "    .dataframe thead th {\n",
       "        text-align: right;\n",
       "    }\n",
       "</style>\n",
       "<table border=\"1\" class=\"dataframe\">\n",
       "  <thead>\n",
       "    <tr style=\"text-align: right;\">\n",
       "      <th></th>\n",
       "      <th>Driving</th>\n",
       "      <th>Transit</th>\n",
       "      <th>Walking</th>\n",
       "    </tr>\n",
       "  </thead>\n",
       "  <tbody>\n",
       "    <tr>\n",
       "      <th>2020-01-13</th>\n",
       "      <td>100</td>\n",
       "      <td>100</td>\n",
       "      <td>100</td>\n",
       "    </tr>\n",
       "    <tr>\n",
       "      <th>2020-01-14</th>\n",
       "      <td>101.95</td>\n",
       "      <td>98.45</td>\n",
       "      <td>104.42</td>\n",
       "    </tr>\n",
       "    <tr>\n",
       "      <th>2020-01-15</th>\n",
       "      <td>103.48</td>\n",
       "      <td>96.46</td>\n",
       "      <td>104.79</td>\n",
       "    </tr>\n",
       "    <tr>\n",
       "      <th>2020-01-16</th>\n",
       "      <td>112.19</td>\n",
       "      <td>105.04</td>\n",
       "      <td>110.5</td>\n",
       "    </tr>\n",
       "    <tr>\n",
       "      <th>2020-01-17</th>\n",
       "      <td>124.68</td>\n",
       "      <td>120.4</td>\n",
       "      <td>133.23</td>\n",
       "    </tr>\n",
       "  </tbody>\n",
       "</table>\n",
       "</div>"
      ],
      "text/plain": [
       "           Driving Transit Walking\n",
       "2020-01-13     100     100     100\n",
       "2020-01-14  101.95   98.45  104.42\n",
       "2020-01-15  103.48   96.46  104.79\n",
       "2020-01-16  112.19  105.04   110.5\n",
       "2020-01-17  124.68   120.4  133.23"
      ]
     },
     "execution_count": 5,
     "metadata": {},
     "output_type": "execute_result"
    }
   ],
   "source": [
    "singaporeTransposed = singapore.transpose()\n",
    "\n",
    "# Delete row at index position 0 & 1\n",
    "singaporeTransposed = singaporeTransposed.drop([singaporeTransposed.index[0]])\n",
    "#Rename Column Index\n",
    "singaporeTransposed.columns = [ 'Driving', 'Transit', 'Walking']\n",
    "singaporeTransposed.head()"
   ]
  },
  {
   "cell_type": "code",
   "execution_count": 6,
   "metadata": {},
   "outputs": [],
   "source": [
    "#Save to CSV for easier editing (commented out since it's done)\n",
    "#singaporeTransposed.to_csv('singaporeMobility.csv')"
   ]
  },
  {
   "cell_type": "code",
   "execution_count": 7,
   "metadata": {},
   "outputs": [
    {
     "data": {
      "text/html": [
       "<div>\n",
       "<style scoped>\n",
       "    .dataframe tbody tr th:only-of-type {\n",
       "        vertical-align: middle;\n",
       "    }\n",
       "\n",
       "    .dataframe tbody tr th {\n",
       "        vertical-align: top;\n",
       "    }\n",
       "\n",
       "    .dataframe thead th {\n",
       "        text-align: right;\n",
       "    }\n",
       "</style>\n",
       "<table border=\"1\" class=\"dataframe\">\n",
       "  <thead>\n",
       "    <tr style=\"text-align: right;\">\n",
       "      <th></th>\n",
       "      <th>Date</th>\n",
       "      <th>Driving</th>\n",
       "      <th>Transit</th>\n",
       "      <th>Walking</th>\n",
       "    </tr>\n",
       "  </thead>\n",
       "  <tbody>\n",
       "    <tr>\n",
       "      <th>0</th>\n",
       "      <td>2020-01-13</td>\n",
       "      <td>100.00</td>\n",
       "      <td>100.00</td>\n",
       "      <td>100.00</td>\n",
       "    </tr>\n",
       "    <tr>\n",
       "      <th>1</th>\n",
       "      <td>2020-01-14</td>\n",
       "      <td>101.95</td>\n",
       "      <td>98.45</td>\n",
       "      <td>104.42</td>\n",
       "    </tr>\n",
       "    <tr>\n",
       "      <th>2</th>\n",
       "      <td>2020-01-15</td>\n",
       "      <td>103.48</td>\n",
       "      <td>96.46</td>\n",
       "      <td>104.79</td>\n",
       "    </tr>\n",
       "    <tr>\n",
       "      <th>3</th>\n",
       "      <td>2020-01-16</td>\n",
       "      <td>112.19</td>\n",
       "      <td>105.04</td>\n",
       "      <td>110.50</td>\n",
       "    </tr>\n",
       "    <tr>\n",
       "      <th>4</th>\n",
       "      <td>2020-01-17</td>\n",
       "      <td>124.68</td>\n",
       "      <td>120.40</td>\n",
       "      <td>133.23</td>\n",
       "    </tr>\n",
       "  </tbody>\n",
       "</table>\n",
       "</div>"
      ],
      "text/plain": [
       "         Date  Driving  Transit  Walking\n",
       "0  2020-01-13   100.00   100.00   100.00\n",
       "1  2020-01-14   101.95    98.45   104.42\n",
       "2  2020-01-15   103.48    96.46   104.79\n",
       "3  2020-01-16   112.19   105.04   110.50\n",
       "4  2020-01-17   124.68   120.40   133.23"
      ]
     },
     "execution_count": 7,
     "metadata": {},
     "output_type": "execute_result"
    }
   ],
   "source": [
    "singaporeClean = pd.read_csv('singaporeMobility.csv')\n",
    "singaporeClean.head()"
   ]
  },
  {
   "cell_type": "code",
   "execution_count": 8,
   "metadata": {},
   "outputs": [
    {
     "name": "stdout",
     "output_type": "stream",
     "text": [
      "(126, 4)\n"
     ]
    }
   ],
   "source": [
    "print(singaporeClean.shape)"
   ]
  },
  {
   "cell_type": "code",
   "execution_count": 9,
   "metadata": {},
   "outputs": [],
   "source": [
    "#Set size of figure\n",
    "plt.figure(figsize=(19, 10))\n",
    "#Make Time Series Plot for Driving against Date\n",
    "ax = sb.lineplot(x = 'Date', y = 'Driving', data = singapore)\n",
    "#Remove messy date on axis\n",
    "ax.set_xticks([])"
   ]
  },
  {
   "cell_type": "code",
   "execution_count": 10,
   "metadata": {},
   "outputs": [],
   "source": [
    "#Set size of figure\n",
    "plt.figure(figsize=(19, 10))\n",
    "#Make Time Series Plot for Date\n",
    "singaporeRemoved = singapore.drop('Date', axis = 1)\n",
    "ax = sb.lineplot(data = singaporeRemoved)\n",
    "#Remove messy date on axis\n",
    "ax.set_xticks([])"
   ]
  },
  {
   "cell_type": "markdown",
   "metadata": {},
   "source": [
    "---\n",
    "### Using Altair"
   ]
  },
  {
   "cell_type": "code",
   "execution_count": 15,
   "metadata": {},
   "outputs": [],
   "source": [
    "singaporeLong = singaporeClean.melt('Date', var_name='Method', value_name='Percentage')"
   ]
  },
  {
   "cell_type": "code",
   "execution_count": 19,
   "metadata": {},
   "outputs": [
    {
     "data": {
      "application/vnd.vegalite.v3+json": {
       "$schema": "https://vega.github.io/schema/vega-lite/v3.4.0.json",
       "config": {
        "mark": {
         "tooltip": null
        },
        "view": {
         "height": 300,
         "width": 400
        }
       },
       "data": {
        "name": "data-a25fc1f6f799fb79a86672e20014bc43"
       },
       "datasets": {
        "data-a25fc1f6f799fb79a86672e20014bc43": [
         {
          "Date": "2020-01-13",
          "Method": "Driving",
          "Percentage": 100
         },
         {
          "Date": "2020-01-14",
          "Method": "Driving",
          "Percentage": 101.95
         },
         {
          "Date": "2020-01-15",
          "Method": "Driving",
          "Percentage": 103.48
         },
         {
          "Date": "2020-01-16",
          "Method": "Driving",
          "Percentage": 112.19
         },
         {
          "Date": "2020-01-17",
          "Method": "Driving",
          "Percentage": 124.68
         },
         {
          "Date": "2020-01-18",
          "Method": "Driving",
          "Percentage": 107.62
         },
         {
          "Date": "2020-01-19",
          "Method": "Driving",
          "Percentage": 100.58
         },
         {
          "Date": "2020-01-20",
          "Method": "Driving",
          "Percentage": 104.77
         },
         {
          "Date": "2020-01-21",
          "Method": "Driving",
          "Percentage": 104.16
         },
         {
          "Date": "2020-01-22",
          "Method": "Driving",
          "Percentage": 103.24
         },
         {
          "Date": "2020-01-23",
          "Method": "Driving",
          "Percentage": 97.99
         },
         {
          "Date": "2020-01-24",
          "Method": "Driving",
          "Percentage": 82.12
         },
         {
          "Date": "2020-01-25",
          "Method": "Driving",
          "Percentage": 84.87
         },
         {
          "Date": "2020-01-26",
          "Method": "Driving",
          "Percentage": 85.04
         },
         {
          "Date": "2020-01-27",
          "Method": "Driving",
          "Percentage": 80.35
         },
         {
          "Date": "2020-01-28",
          "Method": "Driving",
          "Percentage": 77.74
         },
         {
          "Date": "2020-01-29",
          "Method": "Driving",
          "Percentage": 79.51
         },
         {
          "Date": "2020-01-30",
          "Method": "Driving",
          "Percentage": 84.99
         },
         {
          "Date": "2020-01-31",
          "Method": "Driving",
          "Percentage": 98.58
         },
         {
          "Date": "2020-02-01",
          "Method": "Driving",
          "Percentage": 89.63
         },
         {
          "Date": "2020-02-02",
          "Method": "Driving",
          "Percentage": 84.3
         },
         {
          "Date": "2020-02-03",
          "Method": "Driving",
          "Percentage": 84.9
         },
         {
          "Date": "2020-02-04",
          "Method": "Driving",
          "Percentage": 87.91
         },
         {
          "Date": "2020-02-05",
          "Method": "Driving",
          "Percentage": 86.66
         },
         {
          "Date": "2020-02-06",
          "Method": "Driving",
          "Percentage": 90.06
         },
         {
          "Date": "2020-02-07",
          "Method": "Driving",
          "Percentage": 96.27
         },
         {
          "Date": "2020-02-08",
          "Method": "Driving",
          "Percentage": 78.64
         },
         {
          "Date": "2020-02-09",
          "Method": "Driving",
          "Percentage": 75.57
         },
         {
          "Date": "2020-02-10",
          "Method": "Driving",
          "Percentage": 77.83
         },
         {
          "Date": "2020-02-11",
          "Method": "Driving",
          "Percentage": 78.98
         },
         {
          "Date": "2020-02-12",
          "Method": "Driving",
          "Percentage": 79.82
         },
         {
          "Date": "2020-02-13",
          "Method": "Driving",
          "Percentage": 84.98
         },
         {
          "Date": "2020-02-14",
          "Method": "Driving",
          "Percentage": 93.03
         },
         {
          "Date": "2020-02-15",
          "Method": "Driving",
          "Percentage": 77.05
         },
         {
          "Date": "2020-02-16",
          "Method": "Driving",
          "Percentage": 73
         },
         {
          "Date": "2020-02-17",
          "Method": "Driving",
          "Percentage": 77.12
         },
         {
          "Date": "2020-02-18",
          "Method": "Driving",
          "Percentage": 77.77
         },
         {
          "Date": "2020-02-19",
          "Method": "Driving",
          "Percentage": 79.39
         },
         {
          "Date": "2020-02-20",
          "Method": "Driving",
          "Percentage": 83.23
         },
         {
          "Date": "2020-02-21",
          "Method": "Driving",
          "Percentage": 92.76
         },
         {
          "Date": "2020-02-22",
          "Method": "Driving",
          "Percentage": 81.13
         },
         {
          "Date": "2020-02-23",
          "Method": "Driving",
          "Percentage": 76.11
         },
         {
          "Date": "2020-02-24",
          "Method": "Driving",
          "Percentage": 78.15
         },
         {
          "Date": "2020-02-25",
          "Method": "Driving",
          "Percentage": 79.54
         },
         {
          "Date": "2020-02-26",
          "Method": "Driving",
          "Percentage": 81.05
         },
         {
          "Date": "2020-02-27",
          "Method": "Driving",
          "Percentage": 83.14
         },
         {
          "Date": "2020-02-28",
          "Method": "Driving",
          "Percentage": 93.76
         },
         {
          "Date": "2020-02-29",
          "Method": "Driving",
          "Percentage": 82.91
         },
         {
          "Date": "2020-03-01",
          "Method": "Driving",
          "Percentage": 77.65
         },
         {
          "Date": "2020-03-02",
          "Method": "Driving",
          "Percentage": 79.17
         },
         {
          "Date": "2020-03-03",
          "Method": "Driving",
          "Percentage": 79.24
         },
         {
          "Date": "2020-03-04",
          "Method": "Driving",
          "Percentage": 81.32
         },
         {
          "Date": "2020-03-05",
          "Method": "Driving",
          "Percentage": 85.11
         },
         {
          "Date": "2020-03-06",
          "Method": "Driving",
          "Percentage": 94.99
         },
         {
          "Date": "2020-03-07",
          "Method": "Driving",
          "Percentage": 81.06
         },
         {
          "Date": "2020-03-08",
          "Method": "Driving",
          "Percentage": 77.08
         },
         {
          "Date": "2020-03-09",
          "Method": "Driving",
          "Percentage": 77.37
         },
         {
          "Date": "2020-03-10",
          "Method": "Driving",
          "Percentage": 79.71
         },
         {
          "Date": "2020-03-11",
          "Method": "Driving",
          "Percentage": 78.92
         },
         {
          "Date": "2020-03-12",
          "Method": "Driving",
          "Percentage": 79.9
         },
         {
          "Date": "2020-03-13",
          "Method": "Driving",
          "Percentage": 90.07
         },
         {
          "Date": "2020-03-14",
          "Method": "Driving",
          "Percentage": 78.2
         },
         {
          "Date": "2020-03-15",
          "Method": "Driving",
          "Percentage": 75.54
         },
         {
          "Date": "2020-03-16",
          "Method": "Driving",
          "Percentage": 73.21
         },
         {
          "Date": "2020-03-17",
          "Method": "Driving",
          "Percentage": 78.27
         },
         {
          "Date": "2020-03-18",
          "Method": "Driving",
          "Percentage": 76.03
         },
         {
          "Date": "2020-03-19",
          "Method": "Driving",
          "Percentage": 76.03
         },
         {
          "Date": "2020-03-20",
          "Method": "Driving",
          "Percentage": 82.4
         },
         {
          "Date": "2020-03-21",
          "Method": "Driving",
          "Percentage": 68.64
         },
         {
          "Date": "2020-03-22",
          "Method": "Driving",
          "Percentage": 63.64
         },
         {
          "Date": "2020-03-23",
          "Method": "Driving",
          "Percentage": 65.53
         },
         {
          "Date": "2020-03-24",
          "Method": "Driving",
          "Percentage": 64.92
         },
         {
          "Date": "2020-03-25",
          "Method": "Driving",
          "Percentage": 65.26
         },
         {
          "Date": "2020-03-26",
          "Method": "Driving",
          "Percentage": 66.16
         },
         {
          "Date": "2020-03-27",
          "Method": "Driving",
          "Percentage": 69.19
         },
         {
          "Date": "2020-03-28",
          "Method": "Driving",
          "Percentage": 59
         },
         {
          "Date": "2020-03-29",
          "Method": "Driving",
          "Percentage": 60.63
         },
         {
          "Date": "2020-03-30",
          "Method": "Driving",
          "Percentage": 62.49
         },
         {
          "Date": "2020-03-31",
          "Method": "Driving",
          "Percentage": 63.1
         },
         {
          "Date": "2020-04-01",
          "Method": "Driving",
          "Percentage": 62.37
         },
         {
          "Date": "2020-04-02",
          "Method": "Driving",
          "Percentage": 63.77
         },
         {
          "Date": "2020-04-03",
          "Method": "Driving",
          "Percentage": 67.51
         },
         {
          "Date": "2020-04-04",
          "Method": "Driving",
          "Percentage": 60.4
         },
         {
          "Date": "2020-04-05",
          "Method": "Driving",
          "Percentage": 67.85
         },
         {
          "Date": "2020-04-06",
          "Method": "Driving",
          "Percentage": 57.88
         },
         {
          "Date": "2020-04-07",
          "Method": "Driving",
          "Percentage": 41.53
         },
         {
          "Date": "2020-04-08",
          "Method": "Driving",
          "Percentage": 38.14
         },
         {
          "Date": "2020-04-09",
          "Method": "Driving",
          "Percentage": 35.87
         },
         {
          "Date": "2020-04-10",
          "Method": "Driving",
          "Percentage": 37.66
         },
         {
          "Date": "2020-04-11",
          "Method": "Driving",
          "Percentage": 34.53
         },
         {
          "Date": "2020-04-12",
          "Method": "Driving",
          "Percentage": 37.34
         },
         {
          "Date": "2020-04-13",
          "Method": "Driving",
          "Percentage": 36.6
         },
         {
          "Date": "2020-04-14",
          "Method": "Driving",
          "Percentage": 37.98
         },
         {
          "Date": "2020-04-15",
          "Method": "Driving",
          "Percentage": 36.77
         },
         {
          "Date": "2020-04-16",
          "Method": "Driving",
          "Percentage": 38.99
         },
         {
          "Date": "2020-04-17",
          "Method": "Driving",
          "Percentage": 40.78
         },
         {
          "Date": "2020-04-18",
          "Method": "Driving",
          "Percentage": 36.59
         },
         {
          "Date": "2020-04-19",
          "Method": "Driving",
          "Percentage": 38.2
         },
         {
          "Date": "2020-04-20",
          "Method": "Driving",
          "Percentage": 36.78
         },
         {
          "Date": "2020-04-21",
          "Method": "Driving",
          "Percentage": 37.47
         },
         {
          "Date": "2020-04-22",
          "Method": "Driving",
          "Percentage": 37.36
         },
         {
          "Date": "2020-04-23",
          "Method": "Driving",
          "Percentage": 38.4
         },
         {
          "Date": "2020-04-24",
          "Method": "Driving",
          "Percentage": 37.86
         },
         {
          "Date": "2020-04-25",
          "Method": "Driving",
          "Percentage": 34.48
         },
         {
          "Date": "2020-04-26",
          "Method": "Driving",
          "Percentage": 35.94
         },
         {
          "Date": "2020-04-27",
          "Method": "Driving",
          "Percentage": 36.99
         },
         {
          "Date": "2020-04-28",
          "Method": "Driving",
          "Percentage": 37.18
         },
         {
          "Date": "2020-04-29",
          "Method": "Driving",
          "Percentage": 38.37
         },
         {
          "Date": "2020-04-30",
          "Method": "Driving",
          "Percentage": 37.49
         },
         {
          "Date": "2020-05-01",
          "Method": "Driving",
          "Percentage": 39.94
         },
         {
          "Date": "2020-05-02",
          "Method": "Driving",
          "Percentage": 36.42
         },
         {
          "Date": "2020-05-03",
          "Method": "Driving",
          "Percentage": 38.38
         },
         {
          "Date": "2020-05-04",
          "Method": "Driving",
          "Percentage": 39.6
         },
         {
          "Date": "2020-05-05",
          "Method": "Driving",
          "Percentage": 40.14
         },
         {
          "Date": "2020-05-06",
          "Method": "Driving",
          "Percentage": 38.84
         },
         {
          "Date": "2020-05-07",
          "Method": "Driving",
          "Percentage": 43.15
         },
         {
          "Date": "2020-05-08",
          "Method": "Driving",
          "Percentage": 44.61
         },
         {
          "Date": "2020-05-09",
          "Method": "Driving",
          "Percentage": 45.58
         },
         {
          "Date": "2020-05-10",
          "Method": "Driving",
          "Percentage": 42.86
         },
         {
          "Date": "2020-05-13",
          "Method": "Driving",
          "Percentage": 42.48
         },
         {
          "Date": "2020-05-14",
          "Method": "Driving",
          "Percentage": 44.11
         },
         {
          "Date": "2020-05-15",
          "Method": "Driving",
          "Percentage": 47.99
         },
         {
          "Date": "2020-05-16",
          "Method": "Driving",
          "Percentage": 42.49
         },
         {
          "Date": "2020-05-17",
          "Method": "Driving",
          "Percentage": 42.77
         },
         {
          "Date": "2020-05-18",
          "Method": "Driving",
          "Percentage": 43.19
         },
         {
          "Date": "2020-05-19",
          "Method": "Driving",
          "Percentage": 43.42
         },
         {
          "Date": "2020-01-13",
          "Method": "Transit",
          "Percentage": 100
         },
         {
          "Date": "2020-01-14",
          "Method": "Transit",
          "Percentage": 98.45
         },
         {
          "Date": "2020-01-15",
          "Method": "Transit",
          "Percentage": 96.46
         },
         {
          "Date": "2020-01-16",
          "Method": "Transit",
          "Percentage": 105.04
         },
         {
          "Date": "2020-01-17",
          "Method": "Transit",
          "Percentage": 120.4
         },
         {
          "Date": "2020-01-18",
          "Method": "Transit",
          "Percentage": 107.33
         },
         {
          "Date": "2020-01-19",
          "Method": "Transit",
          "Percentage": 93.66
         },
         {
          "Date": "2020-01-20",
          "Method": "Transit",
          "Percentage": 92.37
         },
         {
          "Date": "2020-01-21",
          "Method": "Transit",
          "Percentage": 92.08
         },
         {
          "Date": "2020-01-22",
          "Method": "Transit",
          "Percentage": 91.49
         },
         {
          "Date": "2020-01-23",
          "Method": "Transit",
          "Percentage": 93.31
         },
         {
          "Date": "2020-01-24",
          "Method": "Transit",
          "Percentage": 77.19
         },
         {
          "Date": "2020-01-25",
          "Method": "Transit",
          "Percentage": 77.7
         },
         {
          "Date": "2020-01-26",
          "Method": "Transit",
          "Percentage": 80.27
         },
         {
          "Date": "2020-01-27",
          "Method": "Transit",
          "Percentage": 77.87
         },
         {
          "Date": "2020-01-28",
          "Method": "Transit",
          "Percentage": 73.42
         },
         {
          "Date": "2020-01-29",
          "Method": "Transit",
          "Percentage": 69.6
         },
         {
          "Date": "2020-01-30",
          "Method": "Transit",
          "Percentage": 76.26
         },
         {
          "Date": "2020-01-31",
          "Method": "Transit",
          "Percentage": 90.92
         },
         {
          "Date": "2020-02-01",
          "Method": "Transit",
          "Percentage": 79.48
         },
         {
          "Date": "2020-02-02",
          "Method": "Transit",
          "Percentage": 73.83
         },
         {
          "Date": "2020-02-03",
          "Method": "Transit",
          "Percentage": 77.39
         },
         {
          "Date": "2020-02-04",
          "Method": "Transit",
          "Percentage": 79.2
         },
         {
          "Date": "2020-02-05",
          "Method": "Transit",
          "Percentage": 75.15
         },
         {
          "Date": "2020-02-06",
          "Method": "Transit",
          "Percentage": 76.62
         },
         {
          "Date": "2020-02-07",
          "Method": "Transit",
          "Percentage": 82.71
         },
         {
          "Date": "2020-02-08",
          "Method": "Transit",
          "Percentage": 68.72
         },
         {
          "Date": "2020-02-09",
          "Method": "Transit",
          "Percentage": 62.02
         },
         {
          "Date": "2020-02-10",
          "Method": "Transit",
          "Percentage": 65.32
         },
         {
          "Date": "2020-02-11",
          "Method": "Transit",
          "Percentage": 66.01
         },
         {
          "Date": "2020-02-12",
          "Method": "Transit",
          "Percentage": 67.32
         },
         {
          "Date": "2020-02-13",
          "Method": "Transit",
          "Percentage": 71.54
         },
         {
          "Date": "2020-02-14",
          "Method": "Transit",
          "Percentage": 79.96
         },
         {
          "Date": "2020-02-15",
          "Method": "Transit",
          "Percentage": 67.16
         },
         {
          "Date": "2020-02-16",
          "Method": "Transit",
          "Percentage": 62.47
         },
         {
          "Date": "2020-02-17",
          "Method": "Transit",
          "Percentage": 64.09
         },
         {
          "Date": "2020-02-18",
          "Method": "Transit",
          "Percentage": 65.28
         },
         {
          "Date": "2020-02-19",
          "Method": "Transit",
          "Percentage": 65.97
         },
         {
          "Date": "2020-02-20",
          "Method": "Transit",
          "Percentage": 69.44
         },
         {
          "Date": "2020-02-21",
          "Method": "Transit",
          "Percentage": 79.72
         },
         {
          "Date": "2020-02-22",
          "Method": "Transit",
          "Percentage": 71.6
         },
         {
          "Date": "2020-02-23",
          "Method": "Transit",
          "Percentage": 64.17
         },
         {
          "Date": "2020-02-24",
          "Method": "Transit",
          "Percentage": 64.06
         },
         {
          "Date": "2020-02-25",
          "Method": "Transit",
          "Percentage": 65.47
         },
         {
          "Date": "2020-02-26",
          "Method": "Transit",
          "Percentage": 70.42
         },
         {
          "Date": "2020-02-27",
          "Method": "Transit",
          "Percentage": 71.92
         },
         {
          "Date": "2020-02-28",
          "Method": "Transit",
          "Percentage": 81.48
         },
         {
          "Date": "2020-02-29",
          "Method": "Transit",
          "Percentage": 72.34
         },
         {
          "Date": "2020-03-01",
          "Method": "Transit",
          "Percentage": 67.37
         },
         {
          "Date": "2020-03-02",
          "Method": "Transit",
          "Percentage": 68.05
         },
         {
          "Date": "2020-03-03",
          "Method": "Transit",
          "Percentage": 69.37
         },
         {
          "Date": "2020-03-04",
          "Method": "Transit",
          "Percentage": 69.48
         },
         {
          "Date": "2020-03-05",
          "Method": "Transit",
          "Percentage": 73.18
         },
         {
          "Date": "2020-03-06",
          "Method": "Transit",
          "Percentage": 81.88
         },
         {
          "Date": "2020-03-07",
          "Method": "Transit",
          "Percentage": 71.49
         },
         {
          "Date": "2020-03-08",
          "Method": "Transit",
          "Percentage": 65.74
         },
         {
          "Date": "2020-03-09",
          "Method": "Transit",
          "Percentage": 66.03
         },
         {
          "Date": "2020-03-10",
          "Method": "Transit",
          "Percentage": 68.47
         },
         {
          "Date": "2020-03-11",
          "Method": "Transit",
          "Percentage": 68.05
         },
         {
          "Date": "2020-03-12",
          "Method": "Transit",
          "Percentage": 68.33
         },
         {
          "Date": "2020-03-13",
          "Method": "Transit",
          "Percentage": 79.59
         },
         {
          "Date": "2020-03-14",
          "Method": "Transit",
          "Percentage": 68.72
         },
         {
          "Date": "2020-03-15",
          "Method": "Transit",
          "Percentage": 67.93
         },
         {
          "Date": "2020-03-16",
          "Method": "Transit",
          "Percentage": 65.47
         },
         {
          "Date": "2020-03-17",
          "Method": "Transit",
          "Percentage": 66.84
         },
         {
          "Date": "2020-03-18",
          "Method": "Transit",
          "Percentage": 65.88
         },
         {
          "Date": "2020-03-19",
          "Method": "Transit",
          "Percentage": 65.29
         },
         {
          "Date": "2020-03-20",
          "Method": "Transit",
          "Percentage": 68.99
         },
         {
          "Date": "2020-03-21",
          "Method": "Transit",
          "Percentage": 57.98
         },
         {
          "Date": "2020-03-22",
          "Method": "Transit",
          "Percentage": 51.17
         },
         {
          "Date": "2020-03-23",
          "Method": "Transit",
          "Percentage": 51.62
         },
         {
          "Date": "2020-03-24",
          "Method": "Transit",
          "Percentage": 50.2
         },
         {
          "Date": "2020-03-25",
          "Method": "Transit",
          "Percentage": 48.44
         },
         {
          "Date": "2020-03-26",
          "Method": "Transit",
          "Percentage": 48.45
         },
         {
          "Date": "2020-03-27",
          "Method": "Transit",
          "Percentage": 49.52
         },
         {
          "Date": "2020-03-28",
          "Method": "Transit",
          "Percentage": 41.9
         },
         {
          "Date": "2020-03-29",
          "Method": "Transit",
          "Percentage": 43.9
         },
         {
          "Date": "2020-03-30",
          "Method": "Transit",
          "Percentage": 43.79
         },
         {
          "Date": "2020-03-31",
          "Method": "Transit",
          "Percentage": 45.57
         },
         {
          "Date": "2020-04-01",
          "Method": "Transit",
          "Percentage": 44.39
         },
         {
          "Date": "2020-04-02",
          "Method": "Transit",
          "Percentage": 42.86
         },
         {
          "Date": "2020-04-03",
          "Method": "Transit",
          "Percentage": 42.04
         },
         {
          "Date": "2020-04-04",
          "Method": "Transit",
          "Percentage": 38.73
         },
         {
          "Date": "2020-04-05",
          "Method": "Transit",
          "Percentage": 39.92
         },
         {
          "Date": "2020-04-06",
          "Method": "Transit",
          "Percentage": 31.11
         },
         {
          "Date": "2020-04-07",
          "Method": "Transit",
          "Percentage": 20.82
         },
         {
          "Date": "2020-04-08",
          "Method": "Transit",
          "Percentage": 18.3
         },
         {
          "Date": "2020-04-09",
          "Method": "Transit",
          "Percentage": 15.71
         },
         {
          "Date": "2020-04-10",
          "Method": "Transit",
          "Percentage": 15.42
         },
         {
          "Date": "2020-04-11",
          "Method": "Transit",
          "Percentage": 14.46
         },
         {
          "Date": "2020-04-12",
          "Method": "Transit",
          "Percentage": 15.79
         },
         {
          "Date": "2020-04-13",
          "Method": "Transit",
          "Percentage": 13.99
         },
         {
          "Date": "2020-04-14",
          "Method": "Transit",
          "Percentage": 14.16
         },
         {
          "Date": "2020-04-15",
          "Method": "Transit",
          "Percentage": 12.77
         },
         {
          "Date": "2020-04-16",
          "Method": "Transit",
          "Percentage": 13.18
         },
         {
          "Date": "2020-04-17",
          "Method": "Transit",
          "Percentage": 13.93
         },
         {
          "Date": "2020-04-18",
          "Method": "Transit",
          "Percentage": 12.37
         },
         {
          "Date": "2020-04-19",
          "Method": "Transit",
          "Percentage": 13.76
         },
         {
          "Date": "2020-04-20",
          "Method": "Transit",
          "Percentage": 12.99
         },
         {
          "Date": "2020-04-21",
          "Method": "Transit",
          "Percentage": 12.61
         },
         {
          "Date": "2020-04-22",
          "Method": "Transit",
          "Percentage": 12.12
         },
         {
          "Date": "2020-04-23",
          "Method": "Transit",
          "Percentage": 12.17
         },
         {
          "Date": "2020-04-24",
          "Method": "Transit",
          "Percentage": 12.57
         },
         {
          "Date": "2020-04-25",
          "Method": "Transit",
          "Percentage": 11.74
         },
         {
          "Date": "2020-04-26",
          "Method": "Transit",
          "Percentage": 12.39
         },
         {
          "Date": "2020-04-27",
          "Method": "Transit",
          "Percentage": 13.22
         },
         {
          "Date": "2020-04-28",
          "Method": "Transit",
          "Percentage": 13.11
         },
         {
          "Date": "2020-04-29",
          "Method": "Transit",
          "Percentage": 13.17
         },
         {
          "Date": "2020-04-30",
          "Method": "Transit",
          "Percentage": 12.99
         },
         {
          "Date": "2020-05-01",
          "Method": "Transit",
          "Percentage": 13.27
         },
         {
          "Date": "2020-05-02",
          "Method": "Transit",
          "Percentage": 12.71
         },
         {
          "Date": "2020-05-03",
          "Method": "Transit",
          "Percentage": 14.2
         },
         {
          "Date": "2020-05-04",
          "Method": "Transit",
          "Percentage": 13.72
         },
         {
          "Date": "2020-05-05",
          "Method": "Transit",
          "Percentage": 14.3
         },
         {
          "Date": "2020-05-06",
          "Method": "Transit",
          "Percentage": 13.28
         },
         {
          "Date": "2020-05-07",
          "Method": "Transit",
          "Percentage": 14.91
         },
         {
          "Date": "2020-05-08",
          "Method": "Transit",
          "Percentage": 14.58
         },
         {
          "Date": "2020-05-09",
          "Method": "Transit",
          "Percentage": 13.82
         },
         {
          "Date": "2020-05-10",
          "Method": "Transit",
          "Percentage": 14.49
         },
         {
          "Date": "2020-05-13",
          "Method": "Transit",
          "Percentage": 15.11
         },
         {
          "Date": "2020-05-14",
          "Method": "Transit",
          "Percentage": 15.28
         },
         {
          "Date": "2020-05-15",
          "Method": "Transit",
          "Percentage": 16.09
         },
         {
          "Date": "2020-05-16",
          "Method": "Transit",
          "Percentage": 15.17
         },
         {
          "Date": "2020-05-17",
          "Method": "Transit",
          "Percentage": 16.76
         },
         {
          "Date": "2020-05-18",
          "Method": "Transit",
          "Percentage": 16.11
         },
         {
          "Date": "2020-05-19",
          "Method": "Transit",
          "Percentage": 16.29
         },
         {
          "Date": "2020-01-13",
          "Method": "Walking",
          "Percentage": 100
         },
         {
          "Date": "2020-01-14",
          "Method": "Walking",
          "Percentage": 104.42
         },
         {
          "Date": "2020-01-15",
          "Method": "Walking",
          "Percentage": 104.79
         },
         {
          "Date": "2020-01-16",
          "Method": "Walking",
          "Percentage": 110.5
         },
         {
          "Date": "2020-01-17",
          "Method": "Walking",
          "Percentage": 133.23
         },
         {
          "Date": "2020-01-18",
          "Method": "Walking",
          "Percentage": 122.37
         },
         {
          "Date": "2020-01-19",
          "Method": "Walking",
          "Percentage": 100.68
         },
         {
          "Date": "2020-01-20",
          "Method": "Walking",
          "Percentage": 98.06
         },
         {
          "Date": "2020-01-21",
          "Method": "Walking",
          "Percentage": 101.62
         },
         {
          "Date": "2020-01-22",
          "Method": "Walking",
          "Percentage": 103.46
         },
         {
          "Date": "2020-01-23",
          "Method": "Walking",
          "Percentage": 104.9
         },
         {
          "Date": "2020-01-24",
          "Method": "Walking",
          "Percentage": 97.21
         },
         {
          "Date": "2020-01-25",
          "Method": "Walking",
          "Percentage": 98.59
         },
         {
          "Date": "2020-01-26",
          "Method": "Walking",
          "Percentage": 94.88
         },
         {
          "Date": "2020-01-27",
          "Method": "Walking",
          "Percentage": 85.01
         },
         {
          "Date": "2020-01-28",
          "Method": "Walking",
          "Percentage": 78.54
         },
         {
          "Date": "2020-01-29",
          "Method": "Walking",
          "Percentage": 72.46
         },
         {
          "Date": "2020-01-30",
          "Method": "Walking",
          "Percentage": 81.35
         },
         {
          "Date": "2020-01-31",
          "Method": "Walking",
          "Percentage": 97.23
         },
         {
          "Date": "2020-02-01",
          "Method": "Walking",
          "Percentage": 92.56
         },
         {
          "Date": "2020-02-02",
          "Method": "Walking",
          "Percentage": 76.7
         },
         {
          "Date": "2020-02-03",
          "Method": "Walking",
          "Percentage": 76.38
         },
         {
          "Date": "2020-02-04",
          "Method": "Walking",
          "Percentage": 80.69
         },
         {
          "Date": "2020-02-05",
          "Method": "Walking",
          "Percentage": 80.86
         },
         {
          "Date": "2020-02-06",
          "Method": "Walking",
          "Percentage": 83.76
         },
         {
          "Date": "2020-02-07",
          "Method": "Walking",
          "Percentage": 96.94
         },
         {
          "Date": "2020-02-08",
          "Method": "Walking",
          "Percentage": 84.66
         },
         {
          "Date": "2020-02-09",
          "Method": "Walking",
          "Percentage": 67.46
         },
         {
          "Date": "2020-02-10",
          "Method": "Walking",
          "Percentage": 65.72
         },
         {
          "Date": "2020-02-11",
          "Method": "Walking",
          "Percentage": 63.56
         },
         {
          "Date": "2020-02-12",
          "Method": "Walking",
          "Percentage": 68.26
         },
         {
          "Date": "2020-02-13",
          "Method": "Walking",
          "Percentage": 73.74
         },
         {
          "Date": "2020-02-14",
          "Method": "Walking",
          "Percentage": 89.89
         },
         {
          "Date": "2020-02-15",
          "Method": "Walking",
          "Percentage": 78.75
         },
         {
          "Date": "2020-02-16",
          "Method": "Walking",
          "Percentage": 64.12
         },
         {
          "Date": "2020-02-17",
          "Method": "Walking",
          "Percentage": 66.4
         },
         {
          "Date": "2020-02-18",
          "Method": "Walking",
          "Percentage": 66.27
         },
         {
          "Date": "2020-02-19",
          "Method": "Walking",
          "Percentage": 69.15
         },
         {
          "Date": "2020-02-20",
          "Method": "Walking",
          "Percentage": 69.64
         },
         {
          "Date": "2020-02-21",
          "Method": "Walking",
          "Percentage": 84.98
         },
         {
          "Date": "2020-02-22",
          "Method": "Walking",
          "Percentage": 78.55
         },
         {
          "Date": "2020-02-23",
          "Method": "Walking",
          "Percentage": 63.35
         },
         {
          "Date": "2020-02-24",
          "Method": "Walking",
          "Percentage": 63.19
         },
         {
          "Date": "2020-02-25",
          "Method": "Walking",
          "Percentage": 66.4
         },
         {
          "Date": "2020-02-26",
          "Method": "Walking",
          "Percentage": 68.18
         },
         {
          "Date": "2020-02-27",
          "Method": "Walking",
          "Percentage": 69.5
         },
         {
          "Date": "2020-02-28",
          "Method": "Walking",
          "Percentage": 85.62
         },
         {
          "Date": "2020-02-29",
          "Method": "Walking",
          "Percentage": 79.27
         },
         {
          "Date": "2020-03-01",
          "Method": "Walking",
          "Percentage": 65.92
         },
         {
          "Date": "2020-03-02",
          "Method": "Walking",
          "Percentage": 65.31
         },
         {
          "Date": "2020-03-03",
          "Method": "Walking",
          "Percentage": 65.96
         },
         {
          "Date": "2020-03-04",
          "Method": "Walking",
          "Percentage": 68.43
         },
         {
          "Date": "2020-03-05",
          "Method": "Walking",
          "Percentage": 69.33
         },
         {
          "Date": "2020-03-06",
          "Method": "Walking",
          "Percentage": 84.43
         },
         {
          "Date": "2020-03-07",
          "Method": "Walking",
          "Percentage": 75.32
         },
         {
          "Date": "2020-03-08",
          "Method": "Walking",
          "Percentage": 62.08
         },
         {
          "Date": "2020-03-09",
          "Method": "Walking",
          "Percentage": 62.11
         },
         {
          "Date": "2020-03-10",
          "Method": "Walking",
          "Percentage": 64.7
         },
         {
          "Date": "2020-03-11",
          "Method": "Walking",
          "Percentage": 63.38
         },
         {
          "Date": "2020-03-12",
          "Method": "Walking",
          "Percentage": 64.32
         },
         {
          "Date": "2020-03-13",
          "Method": "Walking",
          "Percentage": 79.65
         },
         {
          "Date": "2020-03-14",
          "Method": "Walking",
          "Percentage": 71.84
         },
         {
          "Date": "2020-03-15",
          "Method": "Walking",
          "Percentage": 61.54
         },
         {
          "Date": "2020-03-16",
          "Method": "Walking",
          "Percentage": 57.76
         },
         {
          "Date": "2020-03-17",
          "Method": "Walking",
          "Percentage": 61.79
         },
         {
          "Date": "2020-03-18",
          "Method": "Walking",
          "Percentage": 59.05
         },
         {
          "Date": "2020-03-19",
          "Method": "Walking",
          "Percentage": 60.35
         },
         {
          "Date": "2020-03-20",
          "Method": "Walking",
          "Percentage": 70.86
         },
         {
          "Date": "2020-03-21",
          "Method": "Walking",
          "Percentage": 59.69
         },
         {
          "Date": "2020-03-22",
          "Method": "Walking",
          "Percentage": 47.5
         },
         {
          "Date": "2020-03-23",
          "Method": "Walking",
          "Percentage": 45.79
         },
         {
          "Date": "2020-03-24",
          "Method": "Walking",
          "Percentage": 47.03
         },
         {
          "Date": "2020-03-25",
          "Method": "Walking",
          "Percentage": 48.46
         },
         {
          "Date": "2020-03-26",
          "Method": "Walking",
          "Percentage": 47.28
         },
         {
          "Date": "2020-03-27",
          "Method": "Walking",
          "Percentage": 54.72
         },
         {
          "Date": "2020-03-28",
          "Method": "Walking",
          "Percentage": 50
         },
         {
          "Date": "2020-03-29",
          "Method": "Walking",
          "Percentage": 45.79
         },
         {
          "Date": "2020-03-30",
          "Method": "Walking",
          "Percentage": 43.32
         },
         {
          "Date": "2020-03-31",
          "Method": "Walking",
          "Percentage": 47.08
         },
         {
          "Date": "2020-04-01",
          "Method": "Walking",
          "Percentage": 45.28
         },
         {
          "Date": "2020-04-02",
          "Method": "Walking",
          "Percentage": 44.38
         },
         {
          "Date": "2020-04-03",
          "Method": "Walking",
          "Percentage": 52.39
         },
         {
          "Date": "2020-04-04",
          "Method": "Walking",
          "Percentage": 52.34
         },
         {
          "Date": "2020-04-05",
          "Method": "Walking",
          "Percentage": 51.39
         },
         {
          "Date": "2020-04-06",
          "Method": "Walking",
          "Percentage": 42.6
         },
         {
          "Date": "2020-04-07",
          "Method": "Walking",
          "Percentage": 32.36
         },
         {
          "Date": "2020-04-08",
          "Method": "Walking",
          "Percentage": 30.95
         },
         {
          "Date": "2020-04-09",
          "Method": "Walking",
          "Percentage": 34.31
         },
         {
          "Date": "2020-04-10",
          "Method": "Walking",
          "Percentage": 34.88
         },
         {
          "Date": "2020-04-11",
          "Method": "Walking",
          "Percentage": 36.09
         },
         {
          "Date": "2020-04-12",
          "Method": "Walking",
          "Percentage": 32.33
         },
         {
          "Date": "2020-04-13",
          "Method": "Walking",
          "Percentage": 27.87
         },
         {
          "Date": "2020-04-14",
          "Method": "Walking",
          "Percentage": 27.23
         },
         {
          "Date": "2020-04-15",
          "Method": "Walking",
          "Percentage": 25.82
         },
         {
          "Date": "2020-04-16",
          "Method": "Walking",
          "Percentage": 28.2
         },
         {
          "Date": "2020-04-17",
          "Method": "Walking",
          "Percentage": 30
         },
         {
          "Date": "2020-04-18",
          "Method": "Walking",
          "Percentage": 30.72
         },
         {
          "Date": "2020-04-19",
          "Method": "Walking",
          "Percentage": 29.35
         },
         {
          "Date": "2020-04-20",
          "Method": "Walking",
          "Percentage": 27.92
         },
         {
          "Date": "2020-04-21",
          "Method": "Walking",
          "Percentage": 27.71
         },
         {
          "Date": "2020-04-22",
          "Method": "Walking",
          "Percentage": 27.53
         },
         {
          "Date": "2020-04-23",
          "Method": "Walking",
          "Percentage": 25.31
         },
         {
          "Date": "2020-04-24",
          "Method": "Walking",
          "Percentage": 25.87
         },
         {
          "Date": "2020-04-25",
          "Method": "Walking",
          "Percentage": 27.17
         },
         {
          "Date": "2020-04-26",
          "Method": "Walking",
          "Percentage": 25.06
         },
         {
          "Date": "2020-04-27",
          "Method": "Walking",
          "Percentage": 25.66
         },
         {
          "Date": "2020-04-28",
          "Method": "Walking",
          "Percentage": 26.32
         },
         {
          "Date": "2020-04-29",
          "Method": "Walking",
          "Percentage": 26.11
         },
         {
          "Date": "2020-04-30",
          "Method": "Walking",
          "Percentage": 27.22
         },
         {
          "Date": "2020-05-01",
          "Method": "Walking",
          "Percentage": 29.64
         },
         {
          "Date": "2020-05-02",
          "Method": "Walking",
          "Percentage": 29.03
         },
         {
          "Date": "2020-05-03",
          "Method": "Walking",
          "Percentage": 27.62
         },
         {
          "Date": "2020-05-04",
          "Method": "Walking",
          "Percentage": 27.35
         },
         {
          "Date": "2020-05-05",
          "Method": "Walking",
          "Percentage": 28.69
         },
         {
          "Date": "2020-05-06",
          "Method": "Walking",
          "Percentage": 28.99
         },
         {
          "Date": "2020-05-07",
          "Method": "Walking",
          "Percentage": 31.21
         },
         {
          "Date": "2020-05-08",
          "Method": "Walking",
          "Percentage": 33.3
         },
         {
          "Date": "2020-05-09",
          "Method": "Walking",
          "Percentage": 34.56
         },
         {
          "Date": "2020-05-10",
          "Method": "Walking",
          "Percentage": 29.52
         },
         {
          "Date": "2020-05-13",
          "Method": "Walking",
          "Percentage": 29.4
         },
         {
          "Date": "2020-05-14",
          "Method": "Walking",
          "Percentage": 30.3
         },
         {
          "Date": "2020-05-15",
          "Method": "Walking",
          "Percentage": 34.17
         },
         {
          "Date": "2020-05-16",
          "Method": "Walking",
          "Percentage": 31.67
         },
         {
          "Date": "2020-05-17",
          "Method": "Walking",
          "Percentage": 30.82
         },
         {
          "Date": "2020-05-18",
          "Method": "Walking",
          "Percentage": 29.73
         },
         {
          "Date": "2020-05-19",
          "Method": "Walking",
          "Percentage": 29.48
         }
        ]
       },
       "encoding": {
        "color": {
         "field": "Method",
         "type": "nominal"
        },
        "x": {
         "field": "Date",
         "type": "nominal"
        },
        "y": {
         "field": "Percentage",
         "type": "quantitative"
        }
       },
       "mark": "line"
      },
      "image/png": "[encoded data removed]",
      "text/plain": [
       "<VegaLite 3 object>\n",
       "\n",
       "If you see this message, it means the renderer has not been properly enabled\n",
       "for the frontend that you are using. For more information, see\n",
       "https://altair-viz.github.io/user_guide/troubleshooting.html\n"
      ]
     },
     "execution_count": 19,
     "metadata": {},
     "output_type": "execute_result"
    }
   ],
   "source": [
    "#Using Altair for Lineplot of all three\n",
    "alt.Chart(singaporeLong).mark_line().encode(\n",
    "    x = 'Date',\n",
    "    y = 'Percentage',\n",
    "    color = 'Method'\n",
    ")"
   ]
  }
 ],
 "metadata": {
  "kernelspec": {
   "display_name": "Python 3",
   "language": "python",
   "name": "python3"
  },
  "language_info": {
   "codemirror_mode": {
    "name": "ipython",
    "version": 3
   },
   "file_extension": ".py",
   "mimetype": "text/x-python",
   "name": "python",
   "nbconvert_exporter": "python",
   "pygments_lexer": "ipython3",
   "version": "3.7.7"
  }
 },
 "nbformat": 4,
 "nbformat_minor": 4
}
